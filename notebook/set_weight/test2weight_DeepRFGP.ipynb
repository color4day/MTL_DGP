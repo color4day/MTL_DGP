{
 "cells": [
  {
   "cell_type": "code",
   "execution_count": 1,
   "id": "c1c764c9-b1d3-4418-8b28-ceffbb97846d",
   "metadata": {
    "ExecuteTime": {
     "end_time": "2024-08-09T07:44:39.470715Z",
     "start_time": "2024-08-09T07:44:36.949639Z"
    },
    "tags": []
   },
   "outputs": [
    {
     "name": "stdout",
     "output_type": "stream",
     "text": [
      "c:\\Users\\yuanq\\OneDrive\\Desktopold\\SB\\research\\DGPII\\program\\DGP-RFF-main\n"
     ]
    }
   ],
   "source": [
    "#test for 给某一层赋值\n",
    "import os\n",
    "import pyro\n",
    "import torch\n",
    "import pickle\n",
    "import time\n",
    "\n",
    "import numpy as np\n",
    "import torch.nn as nn\n",
    "import matplotlib.pyplot as plt\n",
    "import pyro.distributions as dist\n",
    "\n",
    "from tqdm.auto import trange\n",
    "from pyro.nn import PyroModule, PyroSample, PyroParam\n",
    "from pyro.infer import MCMC, NUTS, SVI, Trace_ELBO, Predictive\n",
    "from pyro.distributions import constraints\n",
    "from pyro.infer.autoguide import AutoDiagonalNormal\n",
    "\n",
    "path = os.getcwd()\n",
    "os.chdir(\"../../\")\n",
    "cwd = os.getcwd()\n",
    "print(cwd)\n",
    "from src.dgp_with_init.deep_layer import DeepGP, DeepGPNoBias, DeepEnsembleGP\n",
    "# os.chdir(path)\n",
    "# from src.dgp_rff.get_variable import getvalue"
   ]
  },
  {
   "cell_type": "code",
   "execution_count": 2,
   "id": "f56a04aab430ee20",
   "metadata": {
    "ExecuteTime": {
     "end_time": "2024-08-09T07:44:39.507381Z",
     "start_time": "2024-08-09T07:44:39.471719Z"
    }
   },
   "outputs": [
    {
     "data": {
      "text/plain": [
       "True"
      ]
     },
     "execution_count": 2,
     "metadata": {},
     "output_type": "execute_result"
    }
   ],
   "source": [
    "import torch\n",
    "torch.cuda.is_available()\n",
    "# trouble shoot see this link:https://stackoverflow.com/questions/77068908/how-to-install-pytorch-with-cuda-support-on-windows-11-cuda-12-no-matching"
   ]
  },
  {
   "cell_type": "code",
   "execution_count": 3,
   "id": "e4ffde22a3c33392",
   "metadata": {
    "ExecuteTime": {
     "end_time": "2024-08-09T07:44:39.513329Z",
     "start_time": "2024-08-09T07:44:39.508387Z"
    }
   },
   "outputs": [],
   "source": [
    "start = time.perf_counter()\n",
    "torch.cuda.current_device()\n",
    "device = torch.device(\"cuda\" if torch.cuda.is_available() else \"cpu\")\n",
    "torch.set_default_device(device)\n",
    "# cuda = torch.device('cuda') "
   ]
  },
  {
   "cell_type": "code",
   "execution_count": 4,
   "id": "463b9382a4096407",
   "metadata": {
    "ExecuteTime": {
     "end_time": "2024-08-09T07:44:39.605288Z",
     "start_time": "2024-08-09T07:44:39.514371Z"
    }
   },
   "outputs": [],
   "source": [
    "var1= torch.FloatTensor([1.0,2.0,3.0]).cuda()"
   ]
  },
  {
   "cell_type": "code",
   "execution_count": 5,
   "id": "be0e909f3f4b15e7",
   "metadata": {
    "ExecuteTime": {
     "end_time": "2024-08-09T07:44:39.611513Z",
     "start_time": "2024-08-09T07:44:39.607323Z"
    }
   },
   "outputs": [
    {
     "data": {
      "text/plain": [
       "device(type='cuda', index=0)"
      ]
     },
     "execution_count": 5,
     "metadata": {},
     "output_type": "execute_result"
    }
   ],
   "source": [
    "var1.device"
   ]
  },
  {
   "cell_type": "code",
   "execution_count": 6,
   "id": "f0a13e24b00d76c6",
   "metadata": {
    "ExecuteTime": {
     "end_time": "2024-08-09T07:44:39.619006Z",
     "start_time": "2024-08-09T07:44:39.612520Z"
    }
   },
   "outputs": [
    {
     "data": {
      "text/plain": [
       "512"
      ]
     },
     "execution_count": 6,
     "metadata": {},
     "output_type": "execute_result"
    }
   ],
   "source": [
    "torch.cuda.memory_allocated()"
   ]
  },
  {
   "cell_type": "markdown",
   "id": "858c7a1400939da9",
   "metadata": {},
   "source": [
    "  # Next step\n",
    "\n",
    "0. Get familiar with the coding structure\n",
    "1. CPU -> GPU\n",
    "2. Last step without bias\n",
    "3. Figure out how they train\n",
    "4. How to access the posterior mean and std/scale from the model\n",
    "5. Learn pickle: numpy.ndarray, png\n",
    "6. ....\n",
    "7. construct a DeepGP class"
   ]
  },
  {
   "cell_type": "code",
   "execution_count": 7,
   "id": "f88c1c9b-ced6-45cf-ae43-59c6cad2d4b1",
   "metadata": {
    "ExecuteTime": {
     "end_time": "2024-08-09T07:44:39.659744Z",
     "start_time": "2024-08-09T07:44:39.620010Z"
    },
    "tags": []
   },
   "outputs": [],
   "source": [
    "# Set random seed for reproducibility\n",
    "np.random.seed(1)\n",
    "\n",
    "# Read data\n",
    "# cwd = os.getcwd()\n",
    "# print(cwd)\n",
    "\n",
    "X_train_path = os.path.join(cwd, \"folds\", \"synthetic_1_fold_1_X_train.txt\")\n",
    "X_test_path = os.path.join(cwd, \"folds\", \"synthetic_1_fold_1_X_test.txt\")\n",
    "Y_train_path = os.path.join(cwd, \"folds\", \"synthetic_1_fold_1_Y_train.txt\")\n",
    "Y_test_path = os.path.join(cwd, \"folds\", \"synthetic_1_fold_1_Y_test.txt\")\n",
    "\n",
    "x_obs = np.loadtxt(X_train_path)\n",
    "y_obs = np.loadtxt(Y_train_path)\n",
    "x_val = np.loadtxt(X_test_path)\n",
    "y_val = np.loadtxt(Y_test_path)\n",
    "\n",
    "# Set plot limits and labels\n",
    "xlims = [-0.2, 0.2]\n",
    "\n",
    "# The X and Y have to be at least 2-dim\n",
    "x_train = torch.from_numpy(x_obs).float().reshape(-1,1)\n",
    "y_train = torch.from_numpy(y_obs).float()\n",
    "x_test = torch.from_numpy(x_val).float().reshape(-1,1)\n",
    "y_test = torch.from_numpy(y_val).float()"
   ]
  },
  {
   "cell_type": "code",
   "execution_count": 8,
   "id": "86d4033f31f79e6e",
   "metadata": {
    "ExecuteTime": {
     "end_time": "2024-08-09T07:44:39.663732Z",
     "start_time": "2024-08-09T07:44:39.660748Z"
    }
   },
   "outputs": [],
   "source": [
    "x_train = x_train.cuda()\n"
   ]
  },
  {
   "cell_type": "code",
   "execution_count": 9,
   "id": "dc3487e3dd203d23",
   "metadata": {
    "ExecuteTime": {
     "end_time": "2024-08-09T07:44:39.669965Z",
     "start_time": "2024-08-09T07:44:39.664737Z"
    }
   },
   "outputs": [],
   "source": [
    "y_train = y_train.cuda()\n",
    "x_test = x_test.cuda()\n",
    "y_test = y_test.cuda()"
   ]
  },
  {
   "cell_type": "code",
   "execution_count": 10,
   "id": "7bbe951cd01dbbc3",
   "metadata": {
    "ExecuteTime": {
     "end_time": "2024-08-09T07:44:39.676431Z",
     "start_time": "2024-08-09T07:44:39.670970Z"
    }
   },
   "outputs": [
    {
     "data": {
      "text/plain": [
       "device(type='cuda', index=0)"
      ]
     },
     "execution_count": 10,
     "metadata": {},
     "output_type": "execute_result"
    }
   ],
   "source": [
    "\n",
    "x_train.device"
   ]
  },
  {
   "cell_type": "code",
   "execution_count": 11,
   "id": "d95fdaea-f245-423b-ac9d-6c527ae8bd14",
   "metadata": {
    "ExecuteTime": {
     "end_time": "2024-08-09T07:44:39.680316Z",
     "start_time": "2024-08-09T07:44:39.677437Z"
    },
    "tags": []
   },
   "outputs": [],
   "source": [
    "\n",
    "\n",
    "  # X = [\n",
    "#     [1,2,3],\n",
    "#     [4,5,6,7,8]\n",
    "#     ]\n",
    "# X_path = os.path.join(cwd, \"folds\", \"test.pickle\")\n",
    "# with open(X_path, 'wb') as f:\n",
    "#     pickle.dump(X, f)"
   ]
  },
  {
   "cell_type": "code",
   "execution_count": 12,
   "id": "f1c587d2-82ff-41b9-aa8a-3752c050afd3",
   "metadata": {
    "ExecuteTime": {
     "end_time": "2024-08-09T07:44:39.685184Z",
     "start_time": "2024-08-09T07:44:39.681322Z"
    },
    "tags": []
   },
   "outputs": [],
   "source": [
    "# with open(X_path, 'rb') as f:\n",
    "#     X_read = pickle.load(f)"
   ]
  },
  {
   "cell_type": "code",
   "execution_count": 65,
   "id": "4d60fd52-887a-4ca5-9b03-8c4777801f8c",
   "metadata": {
    "ExecuteTime": {
     "end_time": "2024-08-09T07:54:43.375854Z",
     "start_time": "2024-08-09T07:54:43.369361Z"
    },
    "tags": []
   },
   "outputs": [],
   "source": [
    "class ModelDGP(PyroModule):\n",
    "    def __init__(self, dim_list=[1,1,1], J_list=[5,10], **kwargs):\n",
    "        super().__init__()\n",
    "        \n",
    "        self.out_dim = dim_list[-1]\n",
    "        self.model = DeepGP(dim_list, J_list, **kwargs)\n",
    "        self.model.to('cuda')\n",
    "        self.kwargs = kwargs\n",
    "\n",
    "    def forward(self, x, y=None):\n",
    "        mu = self.model(x).squeeze() #10000*6\n",
    "        \n",
    "        # batch shape | event shapt\n",
    "        # 10000       |\n",
    "        #scale = torch.FloatTensor([1e-8]*self.out_dim).cuda()\n",
    "        scale = pyro.sample(\"sigma\", dist.Gamma(torch.tensor(0.5, device='cuda'), torch.tensor(1.0, device='cuda'))).expand(self.out_dim)  # Infer the response noise #original 0.5 loc\n",
    "        if 'init_scale' in self.kwargs:\n",
    "            init_w = self.kwargs['init_scale']\n",
    "            # print(\"init_w\", init_w.mean.shape, init_w.var.shape)\n",
    "            scale = pyro.sample(\"sigma\", dist.Gamma(init_w.mean, init_w.var)).expand(self.out_dim) \n",
    "            print(\"scale initialization success!\")\n",
    "        # Sampling model\n",
    "        with pyro.plate(\"data\", x.shape[0]): # x.shape[0]=10000\n",
    "            # obs = xxx(\"obs\", mu, obs=y)\n",
    "            obs = pyro.sample(\"obs\", dist.MultivariateNormal(mu.cuda(), torch.diag(scale * scale).cuda()), obs=y)\n",
    "\n",
    "\n",
    "            \n",
    "#         f1: phi(Omega x)W (+ epsilon1)\n",
    "#         f2: phi(Omega f1)W (+ epsilon2)\n",
    "        \n",
    "#         f2 + epsilon ~ N(0, Sigma)\n",
    "            \n",
    "        return mu"
   ]
  },
  {
   "cell_type": "code",
   "execution_count": 22,
   "id": "4eb4ddf9bee12738",
   "metadata": {
    "ExecuteTime": {
     "end_time": "2024-08-09T07:45:41.862218Z",
     "start_time": "2024-08-09T07:45:41.855852Z"
    }
   },
   "outputs": [],
   "source": [
    "class ModelEnsembleDGP(PyroModule):\n",
    "    def __init__(self, dim_list = [1,1,1], J_list=[50,10]):\n",
    "        super().__init__()\n",
    "        self.out_dim = dim_list[-1]\n",
    "        self.model = DeepEnsembleGP(dim_list, J_list,2)\n",
    "        self.model.to('cuda')\n",
    "        \n",
    "    def forward(self, x, y=None):\n",
    "        mu = self.model(x).squeeze() #10000*6\n",
    "        # mu = self.linear(x1).squeeze()\n",
    "        # batch shape | event shapt\n",
    "        # 10000       |\n",
    "        #scale = torch.FloatTensor([1e-8]*self.out_dim).cuda()\n",
    "        scale = pyro.sample(\"sigma\", dist.Gamma(torch.tensor(0.5, device='cuda'), torch.tensor(1.0, device='cuda'))).expand(self.out_dim)  # Infer the response noise\n",
    "\n",
    "        # Sampling model\n",
    "        with pyro.plate(\"data\", x.shape[0]): # x.shape[0]=10000\n",
    "            # obs = xxx(\"obs\", mu, obs=y)\n",
    "            obs = pyro.sample(\"obs\", dist.MultivariateNormal(mu.cuda(), torch.diag(scale * scale).cuda()), obs=y)\n",
    "\n",
    "\n",
    "            \n",
    "#         f1: phi(Omega x)W (+ epsilon1)\n",
    "#         f2: phi(Omega f1)W (+ epsilon2)\n",
    "        \n",
    "#         f2 + epsilon ~ N(0, Sigma)\n",
    "            \n",
    "        return mu"
   ]
  },
  {
   "cell_type": "code",
   "execution_count": 23,
   "id": "cb293b46831880ac",
   "metadata": {
    "ExecuteTime": {
     "end_time": "2024-08-09T07:45:42.181763Z",
     "start_time": "2024-08-09T07:45:42.176322Z"
    }
   },
   "outputs": [],
   "source": [
    "class ModelNoBiasDGP(PyroModule):\n",
    "    def __init__(self, dim_list=[1,1,1], J_list=[50,10]):\n",
    "        super().__init__()\n",
    "        \n",
    "        self.out_dim = dim_list[-1]\n",
    "        self.model = DeepGPNoBias(dim_list, J_list)\n",
    "        self.model.to('cuda')\n",
    "\n",
    "    def forward(self, x, y=None):\n",
    "        mu = self.model(x).squeeze() #10000*6\n",
    "        \n",
    "        # batch shape | event shapt\n",
    "        # 10000       |\n",
    "        \n",
    "        scale = pyro.sample(\"sigma\", dist.Gamma(torch.tensor(0.5, device='cuda'), torch.tensor(1.0, device='cuda'))).expand(self.out_dim)  # Infer the response noise\n",
    "\n",
    "        # Sampling model\n",
    "        with pyro.plate(\"data\", x.shape[0]): # x.shape[0]=10000\n",
    "            # obs = xxx(\"obs\", mu, obs=y)\n",
    "            obs = pyro.sample( \"obs\", dist.MultivariateNormal(mu.cuda(), torch.diag(scale * scale).cuda()), obs=y)\n",
    "            \n",
    "#         f1: phi(Omega x)W (+ epsilon1)\n",
    "#         f2: phi(Omega f1)W (+ epsilon2)\n",
    "        \n",
    "#         f2 + epsilon ~ N(0, Sigma)\n",
    "            \n",
    "        return mu"
   ]
  },
  {
   "cell_type": "code",
   "execution_count": 24,
   "id": "588f9493019bbefc",
   "metadata": {
    "ExecuteTime": {
     "end_time": "2024-08-09T07:45:42.583796Z",
     "start_time": "2024-08-09T07:45:42.579695Z"
    }
   },
   "outputs": [
    {
     "name": "stdout",
     "output_type": "stream",
     "text": [
      "[1, 10, 6]\n"
     ]
    }
   ],
   "source": [
    "print([x_train.shape[1],10,y_train.shape[1]])"
   ]
  },
  {
   "cell_type": "code",
   "execution_count": 25,
   "id": "1943e55a67cda8ce",
   "metadata": {
    "ExecuteTime": {
     "end_time": "2024-08-09T07:45:42.921908Z",
     "start_time": "2024-08-09T07:45:42.917608Z"
    }
   },
   "outputs": [],
   "source": [
    "class InitParams:\n",
    "    def __init__(self, mean: float, var: float) -> None:\n",
    "        self.mean = mean\n",
    "        self.var = var\n",
    "\n",
    "    def __repr__(self) -> str:\n",
    "        return f\"InitParams(mean={self.mean}, var={self.var})\"\n"
   ]
  },
  {
   "cell_type": "code",
   "execution_count": 75,
   "id": "8c7ec62ec43d410c",
   "metadata": {
    "ExecuteTime": {
     "end_time": "2024-08-09T07:59:18.682248Z",
     "start_time": "2024-08-09T07:59:18.628799Z"
    }
   },
   "outputs": [
    {
     "name": "stdout",
     "output_type": "stream",
     "text": [
      "torch.Size([4])\n",
      "torch.Size([40])\n",
      "torch.Size([5])\n",
      "torch.Size([20])\n",
      "torch.Size([48])\n",
      "torch.Size([6])\n",
      "torch.Size([1])\n",
      "[1, 5, 6] [4, 4]\n",
      "init_1st_w0 InitParams(mean=tensor([[ 0.0064],\n",
      "        [ 0.1947],\n",
      "        [-0.5861],\n",
      "        [ 0.0297]], device='cuda:0', grad_fn=<ReshapeAliasBackward0>), var=tensor([[0.1002],\n",
      "        [0.0998],\n",
      "        [0.1000],\n",
      "        [0.0998]], device='cuda:0', grad_fn=<ReshapeAliasBackward0>))\n",
      "init_2nd_w0 InitParams(mean=tensor([[0.8757, 0.8580, 0.4332, 1.0289, 0.8774, 0.8594, 0.7523, 1.7293],\n",
      "        [0.4680, 0.9804, 0.9377, 0.9663, 0.8830, 1.3790, 1.0478, 0.7780],\n",
      "        [0.6568, 0.9370, 0.8791, 1.3102, 0.5932, 0.9398, 1.1613, 1.2651],\n",
      "        [0.9869, 0.9645, 0.8653, 0.5242, 0.6846, 0.7664, 1.2200, 0.8917],\n",
      "        [1.2042, 0.5465, 0.8870, 0.9336, 1.0041, 0.8777, 0.9700, 0.3611]],\n",
      "       device='cuda:0', grad_fn=<ReshapeAliasBackward0>), var=tensor([[0.1001, 0.0998, 0.0998, 0.1001, 0.0999, 0.1002, 0.1002, 0.1000],\n",
      "        [0.1000, 0.0998, 0.1002, 0.1002, 0.1001, 0.1000, 0.1002, 0.1002],\n",
      "        [0.1002, 0.1001, 0.1000, 0.1002, 0.1000, 0.1001, 0.0998, 0.0999],\n",
      "        [0.1000, 0.0999, 0.0998, 0.0999, 0.1002, 0.1002, 0.1000, 0.0998],\n",
      "        [0.1002, 0.1000, 0.1002, 0.1001, 0.0998, 0.1002, 0.1002, 0.1002]],\n",
      "       device='cuda:0', grad_fn=<ReshapeAliasBackward0>))\n",
      "init_2nd_b0 InitParams(mean=tensor([-0.0932, -0.2305, -0.0173, -0.3816, -0.0940], device='cuda:0',\n",
      "       requires_grad=True), var=tensor([0.0998, 0.1002, 0.1000, 0.1002, 0.1002], device='cuda:0',\n",
      "       requires_grad=True))\n",
      "init_1st_w1 InitParams(mean=tensor([[ 0.3988, -0.2806, -0.2910,  0.3262,  0.4273],\n",
      "        [-0.0342, -0.4607,  0.0111, -0.2770, -0.0513],\n",
      "        [ 0.0263, -0.4053,  0.1058, -0.3013, -0.4257],\n",
      "        [-0.4652, -0.4146, -0.2978,  0.4056, -0.3689]], device='cuda:0',\n",
      "       grad_fn=<ReshapeAliasBackward0>), var=tensor([[0.0999, 0.0998, 0.1000, 0.1002, 0.1002],\n",
      "        [0.1001, 0.1000, 0.1002, 0.0998, 0.1002],\n",
      "        [0.0999, 0.1000, 0.1000, 0.1000, 0.1002],\n",
      "        [0.0998, 0.1002, 0.1000, 0.0998, 0.1002]], device='cuda:0',\n",
      "       grad_fn=<ReshapeAliasBackward0>))\n",
      "init_2nd_w1 InitParams(mean=tensor([[1.1373, 1.0821, 0.8170, 1.1039, 1.2997, 0.8159, 1.0503, 1.3267],\n",
      "        [1.0494, 0.9527, 1.2253, 1.0690, 0.5916, 0.8241, 0.7259, 1.1143],\n",
      "        [0.6808, 1.5258, 1.4105, 1.3433, 1.1795, 1.0709, 0.9678, 1.1497],\n",
      "        [1.1181, 0.7455, 0.7884, 1.1274, 1.1733, 0.7988, 0.6698, 0.7182],\n",
      "        [1.3048, 0.9494, 1.5675, 1.0478, 0.7545, 1.0733, 0.7793, 0.6333],\n",
      "        [1.0493, 0.8861, 1.2130, 0.7085, 1.1616, 0.8261, 0.7075, 1.1802]],\n",
      "       device='cuda:0', grad_fn=<ReshapeAliasBackward0>), var=tensor([[0.0998, 0.1002, 0.1002, 0.0998, 0.1000, 0.0998, 0.1000, 0.0998],\n",
      "        [0.0999, 0.1002, 0.0998, 0.0999, 0.1000, 0.0998, 0.0998, 0.0998],\n",
      "        [0.0998, 0.1002, 0.0999, 0.1001, 0.1002, 0.1002, 0.1001, 0.1000],\n",
      "        [0.1002, 0.1002, 0.0999, 0.1002, 0.0998, 0.1002, 0.0999, 0.0998],\n",
      "        [0.1000, 0.0999, 0.1000, 0.1000, 0.1001, 0.1001, 0.0999, 0.1002],\n",
      "        [0.1001, 0.0998, 0.1002, 0.1002, 0.1002, 0.1002, 0.1000, 0.1000]],\n",
      "       device='cuda:0', grad_fn=<ReshapeAliasBackward0>))\n",
      "init_2nd_b1 InitParams(mean=tensor([-0.2838, -0.4985,  0.1382,  0.3958, -0.1367,  0.0960], device='cuda:0',\n",
      "       requires_grad=True), var=tensor([0.0998, 0.1000, 0.0999, 0.0999, 0.1002, 0.1001], device='cuda:0',\n",
      "       requires_grad=True))\n"
     ]
    }
   ],
   "source": [
    "# load_variable.py\n",
    "import pickle\n",
    "# with open('loc_test.pkl', 'rb') as file:\n",
    "loc = pickle.load(open('loc_test.pkl', 'rb'))\n",
    "scale = pickle.load(open('scale_test.pkl', 'rb'))\n",
    "for i in range(len(loc)):\n",
    "    print(np.shape(loc[i]))\n",
    "\n",
    "dim_list=[x_train.shape[1],5,y_train.shape[1]]\n",
    "# J_list=[4,4]\n",
    "layer_num = 2\n",
    "in_dim_list = [1,5] \n",
    "out_dim_list = [5,6]\n",
    "J_list = [4,4]\n",
    "print(dim_list, J_list)\n",
    "\n",
    "params = {}\n",
    "for i in range(layer_num):\n",
    "    params[f'init_1st_w{i}'] = InitParams(loc[3*i+0].reshape(J_list[i], in_dim_list[i]), scale[3*i+0].reshape(J_list[i], in_dim_list[i]))\n",
    "    params[f'init_2nd_w{i}'] = InitParams(loc[3*i+1].reshape(out_dim_list[i], 2*J_list[i]), scale[3*i+1].reshape(out_dim_list[i], 2*J_list[i]))\n",
    "    params[f'init_2nd_b{i}'] = InitParams(loc[3*i+2], scale[3*i+2])\n",
    "# params['init_scale'] = InitParams(loc[-1][0].view(1,1), scale[-1][0].view(1,1))\n",
    "\n",
    "for name, param in params.items():\n",
    "    print(name, param)"
   ]
  },
  {
   "cell_type": "code",
   "execution_count": 76,
   "id": "71f9724a8eb2b703",
   "metadata": {
    "ExecuteTime": {
     "end_time": "2024-08-09T07:59:19.566659Z",
     "start_time": "2024-08-09T07:59:19.553245Z"
    },
    "tags": []
   },
   "outputs": [
    {
     "name": "stdout",
     "output_type": "stream",
     "text": [
      "1st layer w initialization success! torch.Size([4, 1])\n",
      "2nd layer w initialization success! torch.Size([5, 8])\n",
      "2nd layer b initialization success! torch.Size([5])\n",
      "1st layer w initialization success! torch.Size([4, 5])\n",
      "2nd layer w initialization success! torch.Size([6, 8])\n",
      "2nd layer b initialization success! torch.Size([6])\n",
      "torch.Size([10000, 1])\n",
      "torch.Size([10000, 6])\n"
     ]
    }
   ],
   "source": [
    "#model = Model(in_dim_list=[x_train.shape[1],10], out_dim_list=[10,y_train.shape[1]], J_list=[50,10])\n",
    "mymodel = ModelDGP(dim_list=[x_train.shape[1],5,y_train.shape[1]], J_list=[4,4], **params)\n",
    "print(x_train.shape)\n",
    "print(y_train.shape)\n",
    "mymodel = mymodel.to('cuda')\n",
    "#报错： tensor([[ 1.2223, -0.1403, -0.4599,  0.0344,  0.8647,  1.4247, -0.3386,  1.0720],\n",
    "#         [ 2.2278, -0.5137, -1.5127,  0.8181, -0.9370, -1.1531, -1.0935,  0.0875],\n",
    "#         [-2.0547,  0.3056,  0.8607, -0.2785, -0.5333,  2.3363,  0.6335,  0.5716],\n",
    "#         [ 0.9926, -0.1179, -0.5080, -0.6154,  0.2463, -1.2726, -0.7783, -0.6244],\n",
    "#         [ 0.4254,  0.6795,  0.2867, -0.3228,  0.1220, -0.3774, -1.1066,  0.1976]],\n",
    "#        device='cuda:0')"
   ]
  },
  {
   "cell_type": "code",
   "execution_count": 77,
   "id": "b3ecd508-5a6a-41ba-aac0-a5ffd711229a",
   "metadata": {
    "ExecuteTime": {
     "end_time": "2024-08-09T07:59:20.345503Z",
     "start_time": "2024-08-09T07:59:20.204106Z"
    }
   },
   "outputs": [
    {
     "data": {
      "application/vnd.jupyter.widget-view+json": {
       "model_id": "81754c20ecf649df8a205b275480013e",
       "version_major": 2,
       "version_minor": 0
      },
      "text/plain": [
       "  0%|          | 0/2 [00:00<?, ?it/s]"
      ]
     },
     "metadata": {},
     "output_type": "display_data"
    }
   ],
   "source": [
    "mean_field_guide = AutoDiagonalNormal(mymodel)\n",
    "optimizer = pyro.optim.Adam({\"lr\": 0.001})\n",
    "\n",
    "svi = SVI(mymodel, mean_field_guide, optimizer, loss=Trace_ELBO())\n",
    "pyro.clear_param_store()\n",
    "\n",
    "num_epochs = 2\n",
    "progress_bar = trange(num_epochs)\n",
    "\n",
    "for epoch in progress_bar:\n",
    "    loss = svi.step(x_train, y_train)\n",
    "    progress_bar.set_postfix(loss=f\"{loss / x_train.shape[0]:.3f}\")"
   ]
  },
  {
   "cell_type": "code",
   "execution_count": 54,
   "id": "59ab480c1d00b0f0",
   "metadata": {
    "ExecuteTime": {
     "end_time": "2024-08-09T07:51:47.425729Z",
     "start_time": "2024-08-09T07:51:47.403465Z"
    }
   },
   "outputs": [
    {
     "name": "stdout",
     "output_type": "stream",
     "text": [
      "AutoDiagonalNormal.loc torch.Size([124])\n",
      "AutoDiagonalNormal.loc: Parameter containing:\n",
      "tensor([ 0.0064,  0.1947, -0.5861,  0.0297,  0.8757,  0.8580,  0.4332,  1.0289,\n",
      "         0.8774,  0.8594,  0.7523,  1.7293,  0.4680,  0.9804,  0.9377,  0.9663,\n",
      "         0.8830,  1.3790,  1.0478,  0.7780,  0.6568,  0.9370,  0.8791,  1.3102,\n",
      "         0.5932,  0.9398,  1.1613,  1.2651,  0.9869,  0.9645,  0.8653,  0.5242,\n",
      "         0.6846,  0.7664,  1.2200,  0.8917,  1.2042,  0.5465,  0.8870,  0.9336,\n",
      "         1.0041,  0.8777,  0.9700,  0.3611, -0.0932, -0.2305, -0.0173, -0.3816,\n",
      "        -0.0940,  0.3988, -0.2806, -0.2910,  0.3262,  0.4273, -0.0342, -0.4607,\n",
      "         0.0111, -0.2770, -0.0513,  0.0263, -0.4053,  0.1058, -0.3013, -0.4257,\n",
      "        -0.4652, -0.4146, -0.2978,  0.4056, -0.3689,  1.1373,  1.0821,  0.8170,\n",
      "         1.1039,  1.2997,  0.8159,  1.0503,  1.3267,  1.0494,  0.9527,  1.2253,\n",
      "         1.0690,  0.5916,  0.8241,  0.7259,  1.1143,  0.6808,  1.5258,  1.4105,\n",
      "         1.3433,  1.1795,  1.0709,  0.9678,  1.1497,  1.1181,  0.7455,  0.7884,\n",
      "         1.1274,  1.1733,  0.7988,  0.6698,  0.7182,  1.3048,  0.9494,  1.5675,\n",
      "         1.0478,  0.7545,  1.0733,  0.7793,  0.6333,  1.0493,  0.8861,  1.2130,\n",
      "         0.7085,  1.1616,  0.8261,  0.7075,  1.1802, -0.2838, -0.4985,  0.1382,\n",
      "         0.3958, -0.1367,  0.0960, -0.6640], device='cuda:0',\n",
      "       requires_grad=True)\n",
      "AutoDiagonalNormal.scale torch.Size([124])\n",
      "AutoDiagonalNormal.scale: tensor([0.1002, 0.0998, 0.1000, 0.0998, 0.1001, 0.0998, 0.0998, 0.1001, 0.0999,\n",
      "        0.1002, 0.1002, 0.1000, 0.1000, 0.0998, 0.1002, 0.1002, 0.1001, 0.1000,\n",
      "        0.1002, 0.1002, 0.1002, 0.1001, 0.1000, 0.1002, 0.1000, 0.1001, 0.0998,\n",
      "        0.0999, 0.1000, 0.0999, 0.0998, 0.0999, 0.1002, 0.1002, 0.1000, 0.0998,\n",
      "        0.1002, 0.1000, 0.1002, 0.1001, 0.0998, 0.1002, 0.1002, 0.1002, 0.0998,\n",
      "        0.1002, 0.1000, 0.1002, 0.1002, 0.0999, 0.0998, 0.1000, 0.1002, 0.1002,\n",
      "        0.1001, 0.1000, 0.1002, 0.0998, 0.1002, 0.0999, 0.1000, 0.1000, 0.1000,\n",
      "        0.1002, 0.0998, 0.1002, 0.1000, 0.0998, 0.1002, 0.0998, 0.1002, 0.1002,\n",
      "        0.0998, 0.1000, 0.0998, 0.1000, 0.0998, 0.0999, 0.1002, 0.0998, 0.0999,\n",
      "        0.1000, 0.0998, 0.0998, 0.0998, 0.0998, 0.1002, 0.0999, 0.1001, 0.1002,\n",
      "        0.1002, 0.1001, 0.1000, 0.1002, 0.1002, 0.0999, 0.1002, 0.0998, 0.1002,\n",
      "        0.0999, 0.0998, 0.1000, 0.0999, 0.1000, 0.1000, 0.1001, 0.1001, 0.0999,\n",
      "        0.1002, 0.1001, 0.0998, 0.1002, 0.1002, 0.1002, 0.1002, 0.1000, 0.1000,\n",
      "        0.0998, 0.1000, 0.0999, 0.0999, 0.1002, 0.1001, 0.0998],\n",
      "       device='cuda:0', grad_fn=<SoftplusBackward0>)\n"
     ]
    }
   ],
   "source": [
    "param_store = pyro.get_param_store()\n",
    "for name, value in param_store.items():\n",
    "    print(name, pyro.param(name).shape)\n",
    "    print(f\"{name}: {value}\")"
   ]
  },
  {
   "cell_type": "code",
   "execution_count": 60,
   "id": "1a3da795865fd9ca",
   "metadata": {
    "ExecuteTime": {
     "end_time": "2024-08-09T07:52:21.349109Z",
     "start_time": "2024-08-09T07:52:21.343127Z"
    }
   },
   "outputs": [
    {
     "data": {
      "text/plain": [
       "[4, 40, 5, 20, 48, 6, 1]"
      ]
     },
     "execution_count": 60,
     "metadata": {},
     "output_type": "execute_result"
    }
   ],
   "source": [
    "layer_num = 2\n",
    "in_dim_list = [1,5] \n",
    "out_dim_list = [5,6]\n",
    "J_list = [4,4]\n",
    "len_list = []\n",
    "for i in range(layer_num):\n",
    "    len_list.append(J_list[i]*in_dim_list[i])\n",
    "    len_list.append(out_dim_list[i]*2*J_list[i])\n",
    "    len_list.append(out_dim_list[i])\n",
    "len_list.append(1)\n",
    "len_list"
   ]
  },
  {
   "cell_type": "code",
   "execution_count": 61,
   "id": "21435773957a9fd",
   "metadata": {
    "ExecuteTime": {
     "end_time": "2024-08-09T07:52:21.543366Z",
     "start_time": "2024-08-09T07:52:21.539171Z"
    }
   },
   "outputs": [],
   "source": [
    "def split_array_by_lengths(array, lengths):\n",
    "    result = []\n",
    "    current_position = 0\n",
    "\n",
    "    for length in lengths:\n",
    "        if current_position + length <= len(array):\n",
    "            result.append(array[current_position:current_position + length])\n",
    "            current_position += length\n",
    "        else:\n",
    "            result.append(array[current_position:])\n",
    "            break\n",
    "\n",
    "    return result\n"
   ]
  },
  {
   "cell_type": "code",
   "execution_count": 62,
   "id": "9e3658b02c3f8f3d",
   "metadata": {
    "ExecuteTime": {
     "end_time": "2024-08-09T07:52:21.744845Z",
     "start_time": "2024-08-09T07:52:21.741087Z"
    }
   },
   "outputs": [
    {
     "name": "stdout",
     "output_type": "stream",
     "text": [
      "torch.Size([124])\n"
     ]
    }
   ],
   "source": [
    "loc =param_store[\"AutoDiagonalNormal.loc\"]\n",
    "print(np.shape(loc))"
   ]
  },
  {
   "cell_type": "code",
   "execution_count": 63,
   "id": "54f5b3dc2148ff9c",
   "metadata": {
    "ExecuteTime": {
     "end_time": "2024-08-09T07:52:21.925111Z",
     "start_time": "2024-08-09T07:52:21.921754Z"
    }
   },
   "outputs": [
    {
     "name": "stdout",
     "output_type": "stream",
     "text": [
      "torch.Size([124])\n"
     ]
    }
   ],
   "source": [
    "scale =param_store[\"AutoDiagonalNormal.scale\"]\n",
    "print(np.shape(scale))\n"
   ]
  },
  {
   "cell_type": "code",
   "execution_count": 64,
   "id": "58dc88bd8f4e7a0d",
   "metadata": {
    "ExecuteTime": {
     "end_time": "2024-08-09T07:52:22.124093Z",
     "start_time": "2024-08-09T07:52:22.115682Z"
    }
   },
   "outputs": [],
   "source": [
    "result = split_array_by_lengths(loc, len_list)\n",
    "result_s = split_array_by_lengths(scale, len_list)\n",
    "# save_variable.py\n",
    "import pickle\n",
    "loc_test = result\n",
    "\n",
    "# with open('loc_test.pkl', 'wb') as file:\n",
    "pickle.dump(result, open('loc_test.pkl', 'wb'))\n",
    "pickle.dump(result_s, open('scale_test.pkl', 'wb'))"
   ]
  },
  {
   "cell_type": "code",
   "execution_count": null,
   "id": "2ee6bf74ebdbc5e7",
   "metadata": {},
   "outputs": [],
   "source": []
  },
  {
   "cell_type": "code",
   "execution_count": null,
   "id": "b162f80e752f771f",
   "metadata": {},
   "outputs": [],
   "source": [
    "mymodel.parameters()"
   ]
  },
  {
   "cell_type": "code",
   "execution_count": null,
   "id": "b8f9a0fc-eaba-49d6-b2b7-25d2900d464f",
   "metadata": {
    "tags": []
   },
   "outputs": [],
   "source": [
    "predictive = Predictive(mymodel, guide=mean_field_guide, num_samples=500)\n",
    "preds = predictive(x_test)"
   ]
  },
  {
   "cell_type": "code",
   "execution_count": null,
   "id": "3f9017b0-0419-4084-8a67-9e0a8d05a425",
   "metadata": {
    "tags": []
   },
   "outputs": [],
   "source": [
    "y_pred = preds['obs'].cpu().detach().numpy().mean(axis=0)"
   ]
  },
  {
   "cell_type": "code",
   "execution_count": null,
   "id": "f1f352282a649f7c",
   "metadata": {},
   "outputs": [],
   "source": [
    "preds['obs'].shape"
   ]
  },
  {
   "cell_type": "code",
   "execution_count": null,
   "id": "74966241-fe23-4a9e-b720-3a2530374deb",
   "metadata": {
    "collapsed": true,
    "jupyter": {
     "outputs_hidden": true
    },
    "tags": []
   },
   "outputs": [],
   "source": [
    "for d in range(6):\n",
    "    plt.plot(x_obs, y_obs[:,d], label=\"Observation\")\n",
    "    plt.plot(x_test.cpu(), y_pred[:,d], label=\"Prediction\")\n",
    "    plt.legend()\n",
    "    plt.show()"
   ]
  },
  {
   "cell_type": "code",
   "execution_count": null,
   "id": "189209f643004f9c",
   "metadata": {},
   "outputs": [],
   "source": [
    "# for i in range(int(len(mymodel.model.layers))):\n",
    "#     print(\"Layer\", i,\":\")\n",
    "#     print(\"RBF Omega = \", mymodel.model.layers[i].layers_RBF[0].layer.weight)\n",
    "    #print(\"Cauchy Omega = \", model.model.layers[2*i].layers_Cauchy.omega)\n",
    "    #print(\"Laplacian Omega = \", model.model.layers[2*i].layers_Laplacian.omega)\n",
    "    #print(\"W = \", model.model.layers[2*i+1].layer.weight.squeeze())\n",
    "    #print(\"bias = \", model.model.layers[2*i+1].layer.bias.squeeze())"
   ]
  },
  {
   "cell_type": "code",
   "execution_count": null,
   "id": "aebe154b3acb8281",
   "metadata": {},
   "outputs": [],
   "source": [
    "#getvalue(mymodel)"
   ]
  },
  {
   "cell_type": "code",
   "execution_count": null,
   "id": "8588c70c-5a0c-4b44-b33c-f57244422bda",
   "metadata": {
    "tags": []
   },
   "outputs": [],
   "source": [
    "# # sampled Omega: \n",
    "# for i in range(int(len(model.model.layers)/2)):\n",
    "#     print(\"Layer\", 2*i, \" and Layer\", 2*i+1, \":\")\n",
    "#     print(\"Omega = \", model.model.layers[2*i].layer.weight.squeeze())\n",
    "#     print(\"W = \", model.model.layers[2*i+1].layer.weight.squeeze())\n",
    "#     print(\"bias = \", model.model.layers[2*i+1].layer.bias.squeeze())\n"
   ]
  },
  {
   "cell_type": "code",
   "execution_count": null,
   "id": "92e4edaf8d5bf05c",
   "metadata": {},
   "outputs": [],
   "source": [
    "# pickle.dump(model, open('DeepRFGP.model.pkl', 'wb'))"
   ]
  },
  {
   "cell_type": "code",
   "execution_count": null,
   "id": "82c6784c-e27f-4fbf-9b48-a2cfd21dbd1d",
   "metadata": {},
   "outputs": [],
   "source": [
    "preds['model.layers.0.layer.weight'].squeeze().mean(axis=0)#: Omega estimator"
   ]
  },
  {
   "cell_type": "code",
   "execution_count": null,
   "id": "3f7383f0-d018-4491-a554-6bdee8840104",
   "metadata": {
    "tags": []
   },
   "outputs": [],
   "source": [
    "for name, value in pyro.get_param_store().items():\n",
    "    print(name, pyro.param(name).shape)"
   ]
  },
  {
   "cell_type": "code",
   "execution_count": null,
   "id": "ab1910497a433ac",
   "metadata": {},
   "outputs": [],
   "source": [
    "mymodel.model.layers[0].layer.weight"
   ]
  },
  {
   "cell_type": "code",
   "execution_count": null,
   "id": "8f3174d065c35449",
   "metadata": {},
   "outputs": [],
   "source": [
    "end = time.perf_counter()\n",
    "runtime = end - start\n",
    "print(\"Runtime:\", runtime)"
   ]
  },
  {
   "cell_type": "markdown",
   "id": "ecb6e41e0a42d1",
   "metadata": {},
   "source": [
    "1 -> 50; 100 -> 6"
   ]
  },
  {
   "cell_type": "markdown",
   "id": "2309648bcec46c90",
   "metadata": {},
   "source": [
    "Omega 1*50  1*50\n",
    "W     6*100 6*100\n",
    "bias  6     6\n",
    "sigma 1     1"
   ]
  },
  {
   "cell_type": "code",
   "execution_count": null,
   "id": "dc579bc1-39d1-4a15-b6b0-e6e86050b340",
   "metadata": {},
   "outputs": [],
   "source": [
    "# def model(data):\n",
    "#   alpha = torch.tensor(6.0)\n",
    "#   beta = torch.tensor(10.0)\n",
    "#   pay_probs = pyro.sample('pay_probs', dist.Beta(alpha, beta).expand(3).independent(1))\n",
    "#   normalized_pay_probs = pay_probs / torch.sum(pay_probs)\n",
    "\n",
    "#   with pyro.iarange('data_loop', len(data)):\n",
    "#     pyro.sample('obs', dist.Categorical(probs=normalized_pay_probs), obs=data)"
   ]
  },
  {
   "cell_type": "code",
   "execution_count": null,
   "id": "ca173da6-0f92-41fc-9b1b-5f15dbaa44d0",
   "metadata": {},
   "outputs": [],
   "source": [
    "# def guide(data):\n",
    "#   alphas = pyro.param('alphas', torch.tensor(6.).expand(3), constraint=constraints.positive)\n",
    "#   betas = pyro.param('betas', torch.tensor(10.).expand(3), constraint=constraints.positive) \n",
    "\n",
    "#   pyro.sample('pay_probs', dist.Beta(alphas, betas).independent(1))"
   ]
  },
  {
   "cell_type": "code",
   "execution_count": null,
   "id": "21d8c4fa43a37650",
   "metadata": {},
   "outputs": [],
   "source": [
    " "
   ]
  }
 ],
 "metadata": {
  "kernelspec": {
   "display_name": "Python 3 (ipykernel)",
   "language": "python",
   "name": "python3"
  },
  "language_info": {
   "codemirror_mode": {
    "name": "ipython",
    "version": 3
   },
   "file_extension": ".py",
   "mimetype": "text/x-python",
   "name": "python",
   "nbconvert_exporter": "python",
   "pygments_lexer": "ipython3",
   "version": "3.11.9"
  }
 },
 "nbformat": 4,
 "nbformat_minor": 5
}
