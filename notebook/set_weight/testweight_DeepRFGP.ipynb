{
 "cells": [
  {
   "cell_type": "code",
   "id": "c1c764c9-b1d3-4418-8b28-ceffbb97846d",
   "metadata": {
    "tags": [],
    "ExecuteTime": {
     "end_time": "2024-06-05T18:11:04.726284Z",
     "start_time": "2024-06-05T18:11:01.864127Z"
    }
   },
   "source": [
    "import os\n",
    "import pyro\n",
    "import torch\n",
    "import pickle\n",
    "import time\n",
    "\n",
    "import numpy as np\n",
    "import torch.nn as nn\n",
    "import matplotlib.pyplot as plt\n",
    "import pyro.distributions as dist\n",
    "\n",
    "from tqdm.auto import trange\n",
    "from pyro.nn import PyroModule, PyroSample, PyroParam\n",
    "from pyro.infer import MCMC, NUTS, SVI, Trace_ELBO, Predictive\n",
    "from pyro.distributions import constraints\n",
    "from pyro.infer.autoguide import AutoDiagonalNormal\n",
    "\n",
    "os.chdir(\"../../\")\n",
    "\n",
    "from src.dgp_rff.deep_layer import DeepGP, DeepGPNoBias, DeepEnsembleGP\n",
    "# from src.dgp_rff.get_variable import getvalue"
   ],
   "outputs": [],
   "execution_count": 1
  },
  {
   "metadata": {
    "ExecuteTime": {
     "end_time": "2024-06-05T18:11:04.767693Z",
     "start_time": "2024-06-05T18:11:04.727596Z"
    }
   },
   "cell_type": "code",
   "source": [
    "import torch\n",
    "torch.cuda.is_available()\n",
    "# trouble shoot see this link:https://stackoverflow.com/questions/77068908/how-to-install-pytorch-with-cuda-support-on-windows-11-cuda-12-no-matching"
   ],
   "id": "f56a04aab430ee20",
   "outputs": [
    {
     "data": {
      "text/plain": [
       "True"
      ]
     },
     "execution_count": 2,
     "metadata": {},
     "output_type": "execute_result"
    }
   ],
   "execution_count": 2
  },
  {
   "metadata": {
    "ExecuteTime": {
     "end_time": "2024-06-05T18:11:04.774051Z",
     "start_time": "2024-06-05T18:11:04.767693Z"
    }
   },
   "cell_type": "code",
   "source": [
    "start = time.perf_counter()\n",
    "torch.cuda.current_device()\n",
    "device = torch.device(\"cuda\" if torch.cuda.is_available() else \"cpu\")\n",
    "torch.set_default_device(device)\n",
    "# cuda = torch.device('cuda') "
   ],
   "id": "e4ffde22a3c33392",
   "outputs": [],
   "execution_count": 3
  },
  {
   "metadata": {
    "ExecuteTime": {
     "end_time": "2024-06-05T18:11:04.856569Z",
     "start_time": "2024-06-05T18:11:04.775055Z"
    }
   },
   "cell_type": "code",
   "source": "var1= torch.FloatTensor([1.0,2.0,3.0]).cuda()",
   "id": "463b9382a4096407",
   "outputs": [],
   "execution_count": 4
  },
  {
   "metadata": {
    "ExecuteTime": {
     "end_time": "2024-06-05T18:11:04.862397Z",
     "start_time": "2024-06-05T18:11:04.858597Z"
    }
   },
   "cell_type": "code",
   "source": "var1.device",
   "id": "be0e909f3f4b15e7",
   "outputs": [
    {
     "data": {
      "text/plain": [
       "device(type='cuda', index=0)"
      ]
     },
     "execution_count": 5,
     "metadata": {},
     "output_type": "execute_result"
    }
   ],
   "execution_count": 5
  },
  {
   "metadata": {
    "ExecuteTime": {
     "end_time": "2024-06-05T18:11:04.867798Z",
     "start_time": "2024-06-05T18:11:04.863402Z"
    }
   },
   "cell_type": "code",
   "source": "torch.cuda.memory_allocated()",
   "id": "f0a13e24b00d76c6",
   "outputs": [
    {
     "data": {
      "text/plain": [
       "512"
      ]
     },
     "execution_count": 6,
     "metadata": {},
     "output_type": "execute_result"
    }
   ],
   "execution_count": 6
  },
  {
   "metadata": {},
   "cell_type": "markdown",
   "source": [
    "  # Next step\n",
    "\n",
    "0. Get familiar with the coding structure\n",
    "1. CPU -> GPU\n",
    "2. Last step without bias\n",
    "3. Figure out how they train\n",
    "4. How to access the posterior mean and std/scale from the model\n",
    "5. Learn pickle: numpy.ndarray, png\n",
    "6. ....\n",
    "7. construct a DeepGP class"
   ],
   "id": "858c7a1400939da9"
  },
  {
   "cell_type": "code",
   "id": "f88c1c9b-ced6-45cf-ae43-59c6cad2d4b1",
   "metadata": {
    "tags": [],
    "ExecuteTime": {
     "end_time": "2024-06-05T18:11:04.905913Z",
     "start_time": "2024-06-05T18:11:04.867798Z"
    }
   },
   "source": [
    "# Set random seed for reproducibility\n",
    "np.random.seed(1)\n",
    "\n",
    "# Read data\n",
    "cwd = os.getcwd()\n",
    "print(cwd)\n",
    "\n",
    "X_train_path = os.path.join(cwd, \"folds\", \"synthetic_1_fold_1_X_train.txt\")\n",
    "X_test_path = os.path.join(cwd, \"folds\", \"synthetic_1_fold_1_X_test.txt\")\n",
    "Y_train_path = os.path.join(cwd, \"folds\", \"synthetic_1_fold_1_Y_train.txt\")\n",
    "Y_test_path = os.path.join(cwd, \"folds\", \"synthetic_1_fold_1_Y_test.txt\")\n",
    "\n",
    "x_obs = np.loadtxt(X_train_path)\n",
    "y_obs = np.loadtxt(Y_train_path)\n",
    "x_val = np.loadtxt(X_test_path)\n",
    "y_val = np.loadtxt(Y_test_path)\n",
    "\n",
    "# Set plot limits and labels\n",
    "xlims = [-0.2, 0.2]\n",
    "\n",
    "# The X and Y have to be at least 2-dim\n",
    "x_train = torch.from_numpy(x_obs).float().reshape(-1,1)\n",
    "y_train = torch.from_numpy(y_obs).float()\n",
    "x_test = torch.from_numpy(x_val).float().reshape(-1,1)\n",
    "y_test = torch.from_numpy(y_val).float()"
   ],
   "outputs": [
    {
     "name": "stdout",
     "output_type": "stream",
     "text": [
      "C:\\Users\\yuanq\\OneDrive\\Desktopold\\SB\\research\\DGPII\\program\\DGP-RFF-main\n"
     ]
    }
   ],
   "execution_count": 7
  },
  {
   "metadata": {
    "ExecuteTime": {
     "end_time": "2024-06-05T18:11:04.909261Z",
     "start_time": "2024-06-05T18:11:04.905913Z"
    }
   },
   "cell_type": "code",
   "source": "x_train = x_train.cuda()\n",
   "id": "86d4033f31f79e6e",
   "outputs": [],
   "execution_count": 8
  },
  {
   "metadata": {
    "ExecuteTime": {
     "end_time": "2024-06-05T18:11:04.913848Z",
     "start_time": "2024-06-05T18:11:04.910266Z"
    }
   },
   "cell_type": "code",
   "source": [
    "y_train = y_train.cuda()\n",
    "x_test = x_test.cuda()\n",
    "y_test = y_test.cuda()"
   ],
   "id": "dc3487e3dd203d23",
   "outputs": [],
   "execution_count": 9
  },
  {
   "metadata": {
    "ExecuteTime": {
     "end_time": "2024-06-05T18:11:04.918170Z",
     "start_time": "2024-06-05T18:11:04.913848Z"
    }
   },
   "cell_type": "code",
   "source": "x_train.device",
   "id": "7bbe951cd01dbbc3",
   "outputs": [
    {
     "data": {
      "text/plain": [
       "device(type='cuda', index=0)"
      ]
     },
     "execution_count": 10,
     "metadata": {},
     "output_type": "execute_result"
    }
   ],
   "execution_count": 10
  },
  {
   "cell_type": "code",
   "id": "d95fdaea-f245-423b-ac9d-6c527ae8bd14",
   "metadata": {
    "tags": [],
    "ExecuteTime": {
     "end_time": "2024-06-05T18:11:04.921577Z",
     "start_time": "2024-06-05T18:11:04.919174Z"
    }
   },
   "source": [
    "\n",
    "\n",
    "  # X = [\n",
    "#     [1,2,3],\n",
    "#     [4,5,6,7,8]\n",
    "#     ]\n",
    "# X_path = os.path.join(cwd, \"folds\", \"test.pickle\")\n",
    "# with open(X_path, 'wb') as f:\n",
    "#     pickle.dump(X, f)"
   ],
   "outputs": [],
   "execution_count": 11
  },
  {
   "cell_type": "code",
   "id": "f1c587d2-82ff-41b9-aa8a-3752c050afd3",
   "metadata": {
    "tags": [],
    "ExecuteTime": {
     "end_time": "2024-06-05T18:11:04.925369Z",
     "start_time": "2024-06-05T18:11:04.922581Z"
    }
   },
   "source": [
    "# with open(X_path, 'rb') as f:\n",
    "#     X_read = pickle.load(f)"
   ],
   "outputs": [],
   "execution_count": 12
  },
  {
   "cell_type": "code",
   "id": "4d60fd52-887a-4ca5-9b03-8c4777801f8c",
   "metadata": {
    "tags": [],
    "ExecuteTime": {
     "end_time": "2024-06-05T18:11:53.334974Z",
     "start_time": "2024-06-05T18:11:53.330004Z"
    }
   },
   "source": [
    "class ModelDGP(PyroModule):\n",
    "    def __init__(self, dim_list=[1,1,1], J_list=[5,10]):\n",
    "        super().__init__()\n",
    "        \n",
    "        self.out_dim = dim_list[-1]\n",
    "        self.model = DeepGP(dim_list, J_list)\n",
    "        self.model.to('cuda')\n",
    "\n",
    "    def forward(self, x, y=None):\n",
    "        mu = self.model(x).squeeze() #10000*6\n",
    "        \n",
    "        # batch shape | event shapt\n",
    "        # 10000       |\n",
    "        #scale = torch.FloatTensor([1e-8]*self.out_dim).cuda()\n",
    "        scale = pyro.sample(\"sigma\", dist.Gamma(torch.tensor(0.5, device='cuda'), torch.tensor(1.0, device='cuda'))).expand(self.out_dim)  # Infer the response noise #original 0.5 loc\n",
    "\n",
    "        # Sampling model\n",
    "        with pyro.plate(\"data\", x.shape[0]): # x.shape[0]=10000\n",
    "            # obs = xxx(\"obs\", mu, obs=y)\n",
    "            obs = pyro.sample(\"obs\", dist.MultivariateNormal(mu.cuda(), torch.diag(scale * scale).cuda()), obs=y)\n",
    "\n",
    "\n",
    "            \n",
    "#         f1: phi(Omega x)W (+ epsilon1)\n",
    "#         f2: phi(Omega f1)W (+ epsilon2)\n",
    "        \n",
    "#         f2 + epsilon ~ N(0, Sigma)\n",
    "            \n",
    "        return mu"
   ],
   "outputs": [],
   "execution_count": 19
  },
  {
   "metadata": {
    "ExecuteTime": {
     "end_time": "2024-06-05T18:11:53.910735Z",
     "start_time": "2024-06-05T18:11:53.904910Z"
    }
   },
   "cell_type": "code",
   "source": [
    "class ModelEnsembleDGP(PyroModule):\n",
    "    def __init__(self, dim_list = [1,1,1], J_list=[50,10]):\n",
    "        super().__init__()\n",
    "        self.out_dim = dim_list[-1]\n",
    "        self.model = DeepEnsembleGP(dim_list, J_list,2)\n",
    "        self.model.to('cuda')\n",
    "        \n",
    "    def forward(self, x, y=None):\n",
    "        mu = self.model(x).squeeze() #10000*6\n",
    "        # mu = self.linear(x1).squeeze()\n",
    "        # batch shape | event shapt\n",
    "        # 10000       |\n",
    "        #scale = torch.FloatTensor([1e-8]*self.out_dim).cuda()\n",
    "        scale = pyro.sample(\"sigma\", dist.Gamma(torch.tensor(0.5, device='cuda'), torch.tensor(1.0, device='cuda'))).expand(self.out_dim)  # Infer the response noise\n",
    "\n",
    "        # Sampling model\n",
    "        with pyro.plate(\"data\", x.shape[0]): # x.shape[0]=10000\n",
    "            # obs = xxx(\"obs\", mu, obs=y)\n",
    "            obs = pyro.sample(\"obs\", dist.MultivariateNormal(mu.cuda(), torch.diag(scale * scale).cuda()), obs=y)\n",
    "\n",
    "\n",
    "            \n",
    "#         f1: phi(Omega x)W (+ epsilon1)\n",
    "#         f2: phi(Omega f1)W (+ epsilon2)\n",
    "        \n",
    "#         f2 + epsilon ~ N(0, Sigma)\n",
    "            \n",
    "        return mu"
   ],
   "id": "4eb4ddf9bee12738",
   "outputs": [],
   "execution_count": 20
  },
  {
   "metadata": {
    "ExecuteTime": {
     "end_time": "2024-06-05T18:11:54.321626Z",
     "start_time": "2024-06-05T18:11:54.316265Z"
    }
   },
   "cell_type": "code",
   "source": [
    "class ModelNoBiasDGP(PyroModule):\n",
    "    def __init__(self, dim_list=[1,1,1], J_list=[50,10]):\n",
    "        super().__init__()\n",
    "        \n",
    "        self.out_dim = dim_list[-1]\n",
    "        self.model = DeepGPNoBias(dim_list, J_list)\n",
    "        self.model.to('cuda')\n",
    "\n",
    "    def forward(self, x, y=None):\n",
    "        mu = self.model(x).squeeze() #10000*6\n",
    "        \n",
    "        # batch shape | event shapt\n",
    "        # 10000       |\n",
    "        \n",
    "        scale = pyro.sample(\"sigma\", dist.Gamma(torch.tensor(0.5, device='cuda'), torch.tensor(1.0, device='cuda'))).expand(self.out_dim)  # Infer the response noise\n",
    "\n",
    "        # Sampling model\n",
    "        with pyro.plate(\"data\", x.shape[0]): # x.shape[0]=10000\n",
    "            # obs = xxx(\"obs\", mu, obs=y)\n",
    "            obs = pyro.sample( \"obs\", dist.MultivariateNormal(mu.cuda(), torch.diag(scale * scale).cuda()), obs=y)\n",
    "            \n",
    "#         f1: phi(Omega x)W (+ epsilon1)\n",
    "#         f2: phi(Omega f1)W (+ epsilon2)\n",
    "        \n",
    "#         f2 + epsilon ~ N(0, Sigma)\n",
    "            \n",
    "        return mu"
   ],
   "id": "cb293b46831880ac",
   "outputs": [],
   "execution_count": 21
  },
  {
   "metadata": {
    "ExecuteTime": {
     "end_time": "2024-06-05T18:11:55.057956Z",
     "start_time": "2024-06-05T18:11:55.054658Z"
    }
   },
   "cell_type": "code",
   "source": "print([x_train.shape[1],10,y_train.shape[1]])",
   "id": "588f9493019bbefc",
   "outputs": [
    {
     "name": "stdout",
     "output_type": "stream",
     "text": [
      "[1, 10, 6]\n"
     ]
    }
   ],
   "execution_count": 22
  },
  {
   "cell_type": "code",
   "id": "71f9724a8eb2b703",
   "metadata": {
    "tags": [],
    "ExecuteTime": {
     "end_time": "2024-06-05T18:11:55.562204Z",
     "start_time": "2024-06-05T18:11:55.548081Z"
    }
   },
   "source": [
    "#model = Model(in_dim_list=[x_train.shape[1],10], out_dim_list=[10,y_train.shape[1]], J_list=[50,10])\n",
    "mymodel = ModelDGP(dim_list=[x_train.shape[1],5,y_train.shape[1]], J_list=[2,3])\n",
    "print(x_train.shape)\n",
    "print(y_train.shape)\n",
    "mymodel = mymodel.to('cuda')"
   ],
   "outputs": [
    {
     "name": "stdout",
     "output_type": "stream",
     "text": [
      "[SingleGP(\n",
      "  (layers): PyroModuleList(\n",
      "    (0): FirstLayer(\n",
      "      (layer): PyroLinear(in_features=1, out_features=4, bias=False)\n",
      "    )\n",
      "    (1): SecondLayer(\n",
      "      (layer): PyroLinear(in_features=8, out_features=5, bias=True)\n",
      "    )\n",
      "  )\n",
      "), SingleGP(\n",
      "  (layers): PyroModuleList(\n",
      "    (0): FirstLayer(\n",
      "      (layer): PyroLinear(in_features=5, out_features=6, bias=False)\n",
      "    )\n",
      "    (1): SecondLayer(\n",
      "      (layer): PyroLinear(in_features=12, out_features=6, bias=True)\n",
      "    )\n",
      "  )\n",
      ")]\n",
      "torch.Size([10000, 1])\n",
      "torch.Size([10000, 6])\n"
     ]
    }
   ],
   "execution_count": 23
  },
  {
   "metadata": {
    "ExecuteTime": {
     "end_time": "2024-06-05T18:11:56.723438Z",
     "start_time": "2024-06-05T18:11:56.038879Z"
    }
   },
   "cell_type": "code",
   "source": [
    "mean_field_guide = AutoDiagonalNormal(mymodel)\n",
    "optimizer = pyro.optim.Adam({\"lr\": 0.001})\n",
    "\n",
    "svi = SVI(mymodel, mean_field_guide, optimizer, loss=Trace_ELBO())\n",
    "pyro.clear_param_store()\n",
    "\n",
    "num_epochs = 2\n",
    "progress_bar = trange(num_epochs)\n",
    "\n",
    "for epoch in progress_bar:\n",
    "    loss = svi.step(x_train, y_train)\n",
    "    progress_bar.set_postfix(loss=f\"{loss / x_train.shape[0]:.3f}\")"
   ],
   "id": "b3ecd508-5a6a-41ba-aac0-a5ffd711229a",
   "outputs": [
    {
     "data": {
      "text/plain": [
       "  0%|          | 0/2 [00:00<?, ?it/s]"
      ],
      "application/vnd.jupyter.widget-view+json": {
       "version_major": 2,
       "version_minor": 0,
       "model_id": "6a8af58a5c8c4b36b1ce74ac75b987c9"
      }
     },
     "metadata": {},
     "output_type": "display_data"
    }
   ],
   "execution_count": 24
  },
  {
   "metadata": {
    "ExecuteTime": {
     "end_time": "2024-06-05T18:11:59.464826Z",
     "start_time": "2024-06-05T18:11:59.436811Z"
    }
   },
   "cell_type": "code",
   "source": [
    "param_store = pyro.get_param_store()\n",
    "for name, value in param_store.items():\n",
    "    print(name, pyro.param(name).shape)\n",
    "    print(f\"{name}: {value}\")"
   ],
   "id": "59ab480c1d00b0f0",
   "outputs": [
    {
     "name": "stdout",
     "output_type": "stream",
     "text": [
      "AutoDiagonalNormal.loc torch.Size([158])\n",
      "AutoDiagonalNormal.loc: Parameter containing:\n",
      "tensor([-0.2095,  0.7383, -0.4239, -0.1470,  4.8534,  4.9470,  4.6324,  5.3043,\n",
      "         5.0025,  5.2929,  4.6596,  4.9252,  4.7462,  4.4091,  4.8242,  5.2626,\n",
      "         4.9393,  5.2733,  4.2675,  5.5283,  5.2250,  5.4177,  4.7928,  5.2131,\n",
      "         5.6234,  4.3138,  4.2937,  4.8516,  4.7414,  5.2840,  5.0470,  5.1272,\n",
      "         4.7817,  5.0123,  5.1951,  4.5011,  4.7179,  5.2271,  5.2623,  5.5218,\n",
      "         4.7710,  4.6981,  4.9352,  5.0402,  1.6104,  2.0981,  2.0443,  1.6099,\n",
      "         1.8208, -0.1543, -0.5422,  0.6358,  0.5488,  0.0595,  0.5691,  0.0470,\n",
      "         0.2252, -0.2822, -0.0447, -0.0849, -0.1858, -0.2934,  0.2409,  0.1322,\n",
      "         0.1166, -0.1027, -0.3348,  0.1638, -0.2266, -0.0317, -0.1965,  0.0374,\n",
      "        -0.2773,  0.1673,  0.2422,  0.4658, -0.2642,  0.0896, -0.1765,  5.0334,\n",
      "         4.8564,  5.2522,  5.0584,  5.0216,  4.8647,  4.8684,  4.9876,  5.0167,\n",
      "         4.8134,  4.6463,  4.9918,  5.2154,  4.2549,  5.1443,  4.7226,  4.3080,\n",
      "         4.9549,  5.1760,  4.7806,  4.8188,  5.0839,  5.1196,  5.5021,  4.1573,\n",
      "         5.0629,  4.6432,  4.4788,  4.6763,  5.5255,  4.8612,  4.8017,  5.1164,\n",
      "         5.1041,  4.4732,  5.0039,  4.8167,  5.0487,  5.1017,  4.8646,  5.0569,\n",
      "         4.8122,  5.0026,  5.3887,  5.4596,  5.0657,  4.8724,  4.7857,  4.9866,\n",
      "         4.9728,  4.9863,  4.5247,  4.7473,  4.5836,  4.9696,  4.8470,  4.9147,\n",
      "         4.9530,  4.9682,  4.7546,  4.6111,  5.5275,  5.3678,  4.6155,  5.1520,\n",
      "         5.2730,  5.1803,  5.3596,  4.9208,  4.9068,  5.0434,  4.7282,  2.4952,\n",
      "         1.9463,  2.0029,  1.9846,  1.4704,  2.1515, -1.9036], device='cuda:0',\n",
      "       requires_grad=True)\n",
      "AutoDiagonalNormal.scale torch.Size([158])\n",
      "AutoDiagonalNormal.scale: tensor([0.1002, 0.0998, 0.1002, 0.0998, 0.1002, 0.0998, 0.0999, 0.1001, 0.0999,\n",
      "        0.1001, 0.1000, 0.1002, 0.1002, 0.0999, 0.1002, 0.1000, 0.0998, 0.1002,\n",
      "        0.0998, 0.1002, 0.1001, 0.1000, 0.0998, 0.0998, 0.1001, 0.0999, 0.1002,\n",
      "        0.0998, 0.1002, 0.1002, 0.1002, 0.0998, 0.1001, 0.1002, 0.1002, 0.1002,\n",
      "        0.1000, 0.1002, 0.1000, 0.1000, 0.0998, 0.1001, 0.0999, 0.1001, 0.0999,\n",
      "        0.1002, 0.0998, 0.1002, 0.1001, 0.1002, 0.1002, 0.0998, 0.0998, 0.1002,\n",
      "        0.1002, 0.0999, 0.1001, 0.1001, 0.0999, 0.1002, 0.1001, 0.0998, 0.1002,\n",
      "        0.1002, 0.1002, 0.0998, 0.1000, 0.0998, 0.1002, 0.1001, 0.1002, 0.1002,\n",
      "        0.1001, 0.1002, 0.1000, 0.1002, 0.0998, 0.1000, 0.1002, 0.0999, 0.1002,\n",
      "        0.1001, 0.1002, 0.1002, 0.1002, 0.1002, 0.0998, 0.0998, 0.0998, 0.1002,\n",
      "        0.1001, 0.0999, 0.0998, 0.1001, 0.1002, 0.1002, 0.1002, 0.1002, 0.0999,\n",
      "        0.1002, 0.0998, 0.0998, 0.1002, 0.0998, 0.0998, 0.0998, 0.1002, 0.1002,\n",
      "        0.1002, 0.1001, 0.0999, 0.1002, 0.0998, 0.1002, 0.1001, 0.1002, 0.0998,\n",
      "        0.1000, 0.0998, 0.0998, 0.1002, 0.0998, 0.1001, 0.0998, 0.1001, 0.0998,\n",
      "        0.0998, 0.1002, 0.1002, 0.1002, 0.1002, 0.1000, 0.0998, 0.1002, 0.0998,\n",
      "        0.1002, 0.1002, 0.1002, 0.0998, 0.0999, 0.0998, 0.0999, 0.0998, 0.0998,\n",
      "        0.1002, 0.0998, 0.0998, 0.0998, 0.0998, 0.1002, 0.0998, 0.1002, 0.1002,\n",
      "        0.1002, 0.0998, 0.0998, 0.1002, 0.1002], device='cuda:0',\n",
      "       grad_fn=<SoftplusBackward0>)\n"
     ]
    }
   ],
   "execution_count": 25
  },
  {
   "metadata": {
    "ExecuteTime": {
     "end_time": "2024-06-06T20:11:46.100147Z",
     "start_time": "2024-06-06T20:11:46.093638Z"
    }
   },
   "cell_type": "code",
   "source": [
    "layer_num = 2\n",
    "in_dim_list = [1,5] \n",
    "out_dim_list = [5,6]\n",
    "J_list = [4,6]\n",
    "len_list = []\n",
    "for i in range(layer_num):\n",
    "    len_list.append(J_list[i]*in_dim_list[i])\n",
    "    len_list.append(out_dim_list[i]*2*J_list[i])\n",
    "    len_list.append(out_dim_list[i])\n",
    "len_list"
   ],
   "id": "1a3da795865fd9ca",
   "outputs": [
    {
     "data": {
      "text/plain": [
       "[4, 40, 5, 30, 72, 6]"
      ]
     },
     "execution_count": 31,
     "metadata": {},
     "output_type": "execute_result"
    }
   ],
   "execution_count": 31
  },
  {
   "metadata": {
    "ExecuteTime": {
     "end_time": "2024-06-06T23:52:37.857738Z",
     "start_time": "2024-06-06T23:52:37.851499Z"
    }
   },
   "cell_type": "code",
   "source": [
    "def split_array_by_lengths(array, lengths):\n",
    "    result = []\n",
    "    current_position = 0\n",
    "\n",
    "    for length in lengths:\n",
    "        if current_position + length <= len(array):\n",
    "            result.append(array[current_position:current_position + length])\n",
    "            current_position += length\n",
    "        else:\n",
    "            # 如果剩余的元素不足以组成一个完整的子数组，则将剩余的元素全部添加到结果中\n",
    "            result.append(array[current_position:])\n",
    "            break\n",
    "\n",
    "    return result\n"
   ],
   "id": "21435773957a9fd",
   "outputs": [],
   "execution_count": 38
  },
  {
   "metadata": {
    "ExecuteTime": {
     "end_time": "2024-06-06T23:52:38.576819Z",
     "start_time": "2024-06-06T23:52:38.566680Z"
    }
   },
   "cell_type": "code",
   "source": [
    "loc =param_store[\"AutoDiagonalNormal.loc\"]\n",
    "loc"
   ],
   "id": "9e3658b02c3f8f3d",
   "outputs": [
    {
     "data": {
      "text/plain": [
       "Parameter containing:\n",
       "tensor([-0.2095,  0.7383, -0.4239, -0.1470,  4.8534,  4.9470,  4.6324,  5.3043,\n",
       "         5.0025,  5.2929,  4.6596,  4.9252,  4.7462,  4.4091,  4.8242,  5.2626,\n",
       "         4.9393,  5.2733,  4.2675,  5.5283,  5.2250,  5.4177,  4.7928,  5.2131,\n",
       "         5.6234,  4.3138,  4.2937,  4.8516,  4.7414,  5.2840,  5.0470,  5.1272,\n",
       "         4.7817,  5.0123,  5.1951,  4.5011,  4.7179,  5.2271,  5.2623,  5.5218,\n",
       "         4.7710,  4.6981,  4.9352,  5.0402,  1.6104,  2.0981,  2.0443,  1.6099,\n",
       "         1.8208, -0.1543, -0.5422,  0.6358,  0.5488,  0.0595,  0.5691,  0.0470,\n",
       "         0.2252, -0.2822, -0.0447, -0.0849, -0.1858, -0.2934,  0.2409,  0.1322,\n",
       "         0.1166, -0.1027, -0.3348,  0.1638, -0.2266, -0.0317, -0.1965,  0.0374,\n",
       "        -0.2773,  0.1673,  0.2422,  0.4658, -0.2642,  0.0896, -0.1765,  5.0334,\n",
       "         4.8564,  5.2522,  5.0584,  5.0216,  4.8647,  4.8684,  4.9876,  5.0167,\n",
       "         4.8134,  4.6463,  4.9918,  5.2154,  4.2549,  5.1443,  4.7226,  4.3080,\n",
       "         4.9549,  5.1760,  4.7806,  4.8188,  5.0839,  5.1196,  5.5021,  4.1573,\n",
       "         5.0629,  4.6432,  4.4788,  4.6763,  5.5255,  4.8612,  4.8017,  5.1164,\n",
       "         5.1041,  4.4732,  5.0039,  4.8167,  5.0487,  5.1017,  4.8646,  5.0569,\n",
       "         4.8122,  5.0026,  5.3887,  5.4596,  5.0657,  4.8724,  4.7857,  4.9866,\n",
       "         4.9728,  4.9863,  4.5247,  4.7473,  4.5836,  4.9696,  4.8470,  4.9147,\n",
       "         4.9530,  4.9682,  4.7546,  4.6111,  5.5275,  5.3678,  4.6155,  5.1520,\n",
       "         5.2730,  5.1803,  5.3596,  4.9208,  4.9068,  5.0434,  4.7282,  2.4952,\n",
       "         1.9463,  2.0029,  1.9846,  1.4704,  2.1515, -1.9036], device='cuda:0',\n",
       "       requires_grad=True)"
      ]
     },
     "execution_count": 39,
     "metadata": {},
     "output_type": "execute_result"
    }
   ],
   "execution_count": 39
  },
  {
   "metadata": {
    "ExecuteTime": {
     "end_time": "2024-06-07T01:40:11.359073Z",
     "start_time": "2024-06-07T01:40:11.302979Z"
    }
   },
   "cell_type": "code",
   "source": [
    "result = split_array_by_lengths(loc, len_list)\n",
    "result\n",
    "# save_variable.py\n",
    "# import pickle\n",
    "# \n",
    "# loc_test = result\n",
    "# \n",
    "# with open('loc_test.pkl', 'wb') as file:\n",
    "#     pickle.dump(result, file)\n"
   ],
   "id": "58dc88bd8f4e7a0d",
   "outputs": [
    {
     "data": {
      "text/plain": [
       "[tensor([-0.2095,  0.7383, -0.4239, -0.1470], device='cuda:0',\n",
       "        grad_fn=<SliceBackward0>),\n",
       " tensor([4.8534, 4.9470, 4.6324, 5.3043, 5.0025, 5.2929, 4.6596, 4.9252, 4.7462,\n",
       "         4.4091, 4.8242, 5.2626, 4.9393, 5.2733, 4.2675, 5.5283, 5.2250, 5.4177,\n",
       "         4.7928, 5.2131, 5.6234, 4.3138, 4.2937, 4.8516, 4.7414, 5.2840, 5.0470,\n",
       "         5.1272, 4.7817, 5.0123, 5.1951, 4.5011, 4.7179, 5.2271, 5.2623, 5.5218,\n",
       "         4.7710, 4.6981, 4.9352, 5.0402], device='cuda:0',\n",
       "        grad_fn=<SliceBackward0>),\n",
       " tensor([1.6104, 2.0981, 2.0443, 1.6099, 1.8208], device='cuda:0',\n",
       "        grad_fn=<SliceBackward0>),\n",
       " tensor([-0.1543, -0.5422,  0.6358,  0.5488,  0.0595,  0.5691,  0.0470,  0.2252,\n",
       "         -0.2822, -0.0447, -0.0849, -0.1858, -0.2934,  0.2409,  0.1322,  0.1166,\n",
       "         -0.1027, -0.3348,  0.1638, -0.2266, -0.0317, -0.1965,  0.0374, -0.2773,\n",
       "          0.1673,  0.2422,  0.4658, -0.2642,  0.0896, -0.1765], device='cuda:0',\n",
       "        grad_fn=<SliceBackward0>),\n",
       " tensor([5.0334, 4.8564, 5.2522, 5.0584, 5.0216, 4.8647, 4.8684, 4.9876, 5.0167,\n",
       "         4.8134, 4.6463, 4.9918, 5.2154, 4.2549, 5.1443, 4.7226, 4.3080, 4.9549,\n",
       "         5.1760, 4.7806, 4.8188, 5.0839, 5.1196, 5.5021, 4.1573, 5.0629, 4.6432,\n",
       "         4.4788, 4.6763, 5.5255, 4.8612, 4.8017, 5.1164, 5.1041, 4.4732, 5.0039,\n",
       "         4.8167, 5.0487, 5.1017, 4.8646, 5.0569, 4.8122, 5.0026, 5.3887, 5.4596,\n",
       "         5.0657, 4.8724, 4.7857, 4.9866, 4.9728, 4.9863, 4.5247, 4.7473, 4.5836,\n",
       "         4.9696, 4.8470, 4.9147, 4.9530, 4.9682, 4.7546, 4.6111, 5.5275, 5.3678,\n",
       "         4.6155, 5.1520, 5.2730, 5.1803, 5.3596, 4.9208, 4.9068, 5.0434, 4.7282],\n",
       "        device='cuda:0', grad_fn=<SliceBackward0>),\n",
       " tensor([2.4952, 1.9463, 2.0029, 1.9846, 1.4704, 2.1515], device='cuda:0',\n",
       "        grad_fn=<SliceBackward0>)]"
      ]
     },
     "execution_count": 44,
     "metadata": {},
     "output_type": "execute_result"
    }
   ],
   "execution_count": 44
  },
  {
   "metadata": {
    "ExecuteTime": {
     "end_time": "2024-06-06T23:55:47.858114Z",
     "start_time": "2024-06-06T23:55:47.854426Z"
    }
   },
   "cell_type": "code",
   "source": "",
   "id": "2ee6bf74ebdbc5e7",
   "outputs": [
    {
     "name": "stdout",
     "output_type": "stream",
     "text": [
      "C:\\Users\\yuanq\\OneDrive\\Desktopold\\SB\\research\\DGPII\\program\\DGP-RFF-main\n"
     ]
    }
   ],
   "execution_count": 43
  },
  {
   "metadata": {},
   "cell_type": "code",
   "source": "mymodel.parameters()",
   "id": "b162f80e752f771f",
   "outputs": [],
   "execution_count": null
  },
  {
   "cell_type": "code",
   "id": "b8f9a0fc-eaba-49d6-b2b7-25d2900d464f",
   "metadata": {
    "tags": []
   },
   "source": [
    "predictive = Predictive(mymodel, guide=mean_field_guide, num_samples=500)\n",
    "preds = predictive(x_test)"
   ],
   "outputs": [],
   "execution_count": null
  },
  {
   "cell_type": "code",
   "id": "3f9017b0-0419-4084-8a67-9e0a8d05a425",
   "metadata": {
    "tags": []
   },
   "source": "y_pred = preds['obs'].cpu().detach().numpy().mean(axis=0)",
   "outputs": [],
   "execution_count": null
  },
  {
   "metadata": {},
   "cell_type": "code",
   "source": "preds['obs'].shape",
   "id": "f1f352282a649f7c",
   "outputs": [],
   "execution_count": null
  },
  {
   "cell_type": "code",
   "id": "74966241-fe23-4a9e-b720-3a2530374deb",
   "metadata": {
    "collapsed": true,
    "jupyter": {
     "outputs_hidden": true
    },
    "tags": []
   },
   "source": [
    "for d in range(6):\n",
    "    plt.plot(x_obs, y_obs[:,d], label=\"Observation\")\n",
    "    plt.plot(x_test.cpu(), y_pred[:,d], label=\"Prediction\")\n",
    "    plt.legend()\n",
    "    plt.show()"
   ],
   "outputs": [],
   "execution_count": null
  },
  {
   "metadata": {},
   "cell_type": "code",
   "source": [
    "# for i in range(int(len(mymodel.model.layers))):\n",
    "#     print(\"Layer\", i,\":\")\n",
    "#     print(\"RBF Omega = \", mymodel.model.layers[i].layers_RBF[0].layer.weight)\n",
    "    #print(\"Cauchy Omega = \", model.model.layers[2*i].layers_Cauchy.omega)\n",
    "    #print(\"Laplacian Omega = \", model.model.layers[2*i].layers_Laplacian.omega)\n",
    "    #print(\"W = \", model.model.layers[2*i+1].layer.weight.squeeze())\n",
    "    #print(\"bias = \", model.model.layers[2*i+1].layer.bias.squeeze())"
   ],
   "id": "189209f643004f9c",
   "outputs": [],
   "execution_count": null
  },
  {
   "metadata": {},
   "cell_type": "code",
   "source": "#getvalue(mymodel)",
   "id": "aebe154b3acb8281",
   "outputs": [],
   "execution_count": null
  },
  {
   "cell_type": "code",
   "id": "8588c70c-5a0c-4b44-b33c-f57244422bda",
   "metadata": {
    "tags": []
   },
   "source": [
    "# # sampled Omega: \n",
    "# for i in range(int(len(model.model.layers)/2)):\n",
    "#     print(\"Layer\", 2*i, \" and Layer\", 2*i+1, \":\")\n",
    "#     print(\"Omega = \", model.model.layers[2*i].layer.weight.squeeze())\n",
    "#     print(\"W = \", model.model.layers[2*i+1].layer.weight.squeeze())\n",
    "#     print(\"bias = \", model.model.layers[2*i+1].layer.bias.squeeze())\n"
   ],
   "outputs": [],
   "execution_count": null
  },
  {
   "metadata": {},
   "cell_type": "code",
   "source": "# pickle.dump(model, open('DeepRFGP.model.pkl', 'wb'))",
   "id": "92e4edaf8d5bf05c",
   "outputs": [],
   "execution_count": null
  },
  {
   "cell_type": "code",
   "id": "82c6784c-e27f-4fbf-9b48-a2cfd21dbd1d",
   "metadata": {},
   "source": "preds['model.layers.0.layer.weight'].squeeze().mean(axis=0)#: Omega estimator",
   "outputs": [],
   "execution_count": null
  },
  {
   "cell_type": "code",
   "id": "3f7383f0-d018-4491-a554-6bdee8840104",
   "metadata": {
    "tags": []
   },
   "source": [
    "for name, value in pyro.get_param_store().items():\n",
    "    print(name, pyro.param(name).shape)"
   ],
   "outputs": [],
   "execution_count": null
  },
  {
   "metadata": {},
   "cell_type": "code",
   "source": "mymodel.model.layers[0].layer.weight",
   "id": "ab1910497a433ac",
   "outputs": [],
   "execution_count": null
  },
  {
   "metadata": {},
   "cell_type": "code",
   "source": [
    "end = time.perf_counter()\n",
    "runtime = end - start\n",
    "print(\"Runtime:\", runtime)"
   ],
   "id": "8f3174d065c35449",
   "outputs": [],
   "execution_count": null
  },
  {
   "metadata": {},
   "cell_type": "markdown",
   "source": "1 -> 50; 100 -> 6",
   "id": "ecb6e41e0a42d1"
  },
  {
   "metadata": {},
   "cell_type": "markdown",
   "source": [
    "Omega 1*50  1*50\n",
    "W     6*100 6*100\n",
    "bias  6     6\n",
    "sigma 1     1"
   ],
   "id": "2309648bcec46c90"
  },
  {
   "cell_type": "code",
   "id": "dc579bc1-39d1-4a15-b6b0-e6e86050b340",
   "metadata": {},
   "source": [
    "# def model(data):\n",
    "#   alpha = torch.tensor(6.0)\n",
    "#   beta = torch.tensor(10.0)\n",
    "#   pay_probs = pyro.sample('pay_probs', dist.Beta(alpha, beta).expand(3).independent(1))\n",
    "#   normalized_pay_probs = pay_probs / torch.sum(pay_probs)\n",
    "\n",
    "#   with pyro.iarange('data_loop', len(data)):\n",
    "#     pyro.sample('obs', dist.Categorical(probs=normalized_pay_probs), obs=data)"
   ],
   "outputs": [],
   "execution_count": null
  },
  {
   "cell_type": "code",
   "id": "ca173da6-0f92-41fc-9b1b-5f15dbaa44d0",
   "metadata": {},
   "source": [
    "# def guide(data):\n",
    "#   alphas = pyro.param('alphas', torch.tensor(6.).expand(3), constraint=constraints.positive)\n",
    "#   betas = pyro.param('betas', torch.tensor(10.).expand(3), constraint=constraints.positive) \n",
    "\n",
    "#   pyro.sample('pay_probs', dist.Beta(alphas, betas).independent(1))"
   ],
   "outputs": [],
   "execution_count": null
  }
 ],
 "metadata": {
  "kernelspec": {
   "display_name": "Python 3 (ipykernel)",
   "language": "python",
   "name": "python3"
  },
  "language_info": {
   "codemirror_mode": {
    "name": "ipython",
    "version": 3
   },
   "file_extension": ".py",
   "mimetype": "text/x-python",
   "name": "python",
   "nbconvert_exporter": "python",
   "pygments_lexer": "ipython3",
   "version": "3.11.4"
  }
 },
 "nbformat": 4,
 "nbformat_minor": 5
}
