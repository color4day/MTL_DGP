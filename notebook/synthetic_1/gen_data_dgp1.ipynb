{
 "cells": [
  {
   "cell_type": "code",
   "id": "initial_id",
   "metadata": {
    "collapsed": true,
    "ExecuteTime": {
     "end_time": "2024-09-11T07:15:26.122142Z",
     "start_time": "2024-09-11T07:15:25.814166Z"
    }
   },
   "source": [
    "import torch\n",
    "import numpy as np\n",
    "from scipy import special\n",
    "import matplotlib.pyplot as plt\n",
    "import sklearn\n",
    "from sklearn.gaussian_process.kernels import DotProduct, RBF, WhiteKernel\n",
    "from sklearn.gaussian_process import GaussianProcessRegressor\n",
    "from sklearn.datasets import make_friedman2\n",
    "from sklearn.model_selection import train_test_split\n",
    "\n",
    "# Set random seed for reproducibility\n",
    "np.random.seed(1995)\n",
    "torch.manual_seed(1995)\n",
    "\n",
    "# Generate 2D data (Method 1: Adding a second feature based on sin(x_obs))\n",
    "x_obs = np.array(np.linspace(-50, 50, 1000)).reshape(-1, 1)\n",
    "x_obs_2d = np.hstack([x_obs, np.sin(x_obs)])  # Adding sin(x_obs) as second feature\n",
    "\n",
    "# You can also use Method 2: Uncomment the following line to use random 2D input\n",
    "# x_obs_2d = np.random.uniform(low=-50, high=50, size=(1000, 2))\n",
    "\n",
    "# Gaussian Process with DotProduct and RBF kernel\n",
    "kernel = DotProduct(sigma_0=20) * RBF(length_scale=5.0) + WhiteKernel(1)\n",
    "gp = GaussianProcessRegressor(kernel=kernel, random_state=0)\n",
    "\n",
    "# Generate noisy observations\n",
    "noise = 10 * np.random.randn(x_obs_2d.shape[0])\n",
    "y_obs = gp.sample_y(x_obs_2d, n_samples=1, random_state=0).reshape(-1, 1) + noise.reshape(-1, 1)\n",
    "\n",
    "# Normalize y_obs (optional)\n",
    "y_obs = y_obs / 10\n",
    "\n",
    "# Split data into training and test sets with 500 test points\n",
    "x_train, x_test_unsorted, y_train, y_test_unsorted = train_test_split(x_obs_2d, y_obs, test_size=1000, random_state=42)\n",
    "\n",
    "# Get the indices that would sort x_test by the first feature (for visualization purposes)\n",
    "sorted_indices = np.argsort(x_test_unsorted[:, 0])\n",
    "\n",
    "# Sort both arrays using the sorted indices\n",
    "x_test = x_test_unsorted[sorted_indices]\n",
    "y_test = y_test_unsorted[sorted_indices]\n",
    "\n",
    "# Now you have a 2D input dataset (x_obs_2d) and corresponding outputs (y_obs)\n",
    "print(f\"x_train shape: {x_train.shape}\")\n",
    "print(f\"x_test shape: {x_test.shape}\")\n",
    "\n",
    "# data = np.vstack((x_obs.transpose(), y_obs.T))\n",
    "# train_set, val_set = torch.utils.data.random_split(data.T, [500,500])\n",
    "\n",
    "\n",
    "# Create plot\n",
    "fig, ax = plt.subplots(figsize=(10, 5))\n",
    "#ax.plot(x_true, y_true, 'b-', linewidth=3, label=\"True function\")\n",
    "ax.scatter(x_obs, y_obs, color='C0', marker='o',label=\"Observations\")\n",
    "#ax.set_xlim(xlims)\n",
    "#ax.set_ylim(ylims)\n",
    "ax.set_xlabel(\"X\", fontsize=30)\n",
    "ax.set_ylabel(\"Y\", fontsize=30)\n",
    "ax.legend(loc=4, fontsize=15, frameon=False)\n",
    "\n",
    "plt.show()"
   ],
   "outputs": [
    {
     "ename": "ValueError",
     "evalue": "test_size=1000 should be either positive and smaller than the number of samples 1000 or a float in the (0, 1) range",
     "output_type": "error",
     "traceback": [
      "\u001B[1;31m---------------------------------------------------------------------------\u001B[0m",
      "\u001B[1;31mValueError\u001B[0m                                Traceback (most recent call last)",
      "Cell \u001B[1;32mIn[10], line 34\u001B[0m\n\u001B[0;32m     31\u001B[0m y_obs \u001B[38;5;241m=\u001B[39m y_obs \u001B[38;5;241m/\u001B[39m \u001B[38;5;241m10\u001B[39m\n\u001B[0;32m     33\u001B[0m \u001B[38;5;66;03m# Split data into training and test sets with 500 test points\u001B[39;00m\n\u001B[1;32m---> 34\u001B[0m x_train, x_test_unsorted, y_train, y_test_unsorted \u001B[38;5;241m=\u001B[39m \u001B[43mtrain_test_split\u001B[49m\u001B[43m(\u001B[49m\u001B[43mx_obs_2d\u001B[49m\u001B[43m,\u001B[49m\u001B[43m \u001B[49m\u001B[43my_obs\u001B[49m\u001B[43m,\u001B[49m\u001B[43m \u001B[49m\u001B[43mtest_size\u001B[49m\u001B[38;5;241;43m=\u001B[39;49m\u001B[38;5;241;43m1000\u001B[39;49m\u001B[43m,\u001B[49m\u001B[43m \u001B[49m\u001B[43mrandom_state\u001B[49m\u001B[38;5;241;43m=\u001B[39;49m\u001B[38;5;241;43m42\u001B[39;49m\u001B[43m)\u001B[49m\n\u001B[0;32m     36\u001B[0m \u001B[38;5;66;03m# Get the indices that would sort x_test by the first feature (for visualization purposes)\u001B[39;00m\n\u001B[0;32m     37\u001B[0m sorted_indices \u001B[38;5;241m=\u001B[39m np\u001B[38;5;241m.\u001B[39margsort(x_test_unsorted[:, \u001B[38;5;241m0\u001B[39m])\n",
      "File \u001B[1;32m~\\anaconda3\\Lib\\site-packages\\sklearn\\utils\\_param_validation.py:213\u001B[0m, in \u001B[0;36mvalidate_params.<locals>.decorator.<locals>.wrapper\u001B[1;34m(*args, **kwargs)\u001B[0m\n\u001B[0;32m    207\u001B[0m \u001B[38;5;28;01mtry\u001B[39;00m:\n\u001B[0;32m    208\u001B[0m     \u001B[38;5;28;01mwith\u001B[39;00m config_context(\n\u001B[0;32m    209\u001B[0m         skip_parameter_validation\u001B[38;5;241m=\u001B[39m(\n\u001B[0;32m    210\u001B[0m             prefer_skip_nested_validation \u001B[38;5;129;01mor\u001B[39;00m global_skip_validation\n\u001B[0;32m    211\u001B[0m         )\n\u001B[0;32m    212\u001B[0m     ):\n\u001B[1;32m--> 213\u001B[0m         \u001B[38;5;28;01mreturn\u001B[39;00m \u001B[43mfunc\u001B[49m\u001B[43m(\u001B[49m\u001B[38;5;241;43m*\u001B[39;49m\u001B[43margs\u001B[49m\u001B[43m,\u001B[49m\u001B[43m \u001B[49m\u001B[38;5;241;43m*\u001B[39;49m\u001B[38;5;241;43m*\u001B[39;49m\u001B[43mkwargs\u001B[49m\u001B[43m)\u001B[49m\n\u001B[0;32m    214\u001B[0m \u001B[38;5;28;01mexcept\u001B[39;00m InvalidParameterError \u001B[38;5;28;01mas\u001B[39;00m e:\n\u001B[0;32m    215\u001B[0m     \u001B[38;5;66;03m# When the function is just a wrapper around an estimator, we allow\u001B[39;00m\n\u001B[0;32m    216\u001B[0m     \u001B[38;5;66;03m# the function to delegate validation to the estimator, but we replace\u001B[39;00m\n\u001B[0;32m    217\u001B[0m     \u001B[38;5;66;03m# the name of the estimator by the name of the function in the error\u001B[39;00m\n\u001B[0;32m    218\u001B[0m     \u001B[38;5;66;03m# message to avoid confusion.\u001B[39;00m\n\u001B[0;32m    219\u001B[0m     msg \u001B[38;5;241m=\u001B[39m re\u001B[38;5;241m.\u001B[39msub(\n\u001B[0;32m    220\u001B[0m         \u001B[38;5;124mr\u001B[39m\u001B[38;5;124m\"\u001B[39m\u001B[38;5;124mparameter of \u001B[39m\u001B[38;5;124m\\\u001B[39m\u001B[38;5;124mw+ must be\u001B[39m\u001B[38;5;124m\"\u001B[39m,\n\u001B[0;32m    221\u001B[0m         \u001B[38;5;124mf\u001B[39m\u001B[38;5;124m\"\u001B[39m\u001B[38;5;124mparameter of \u001B[39m\u001B[38;5;132;01m{\u001B[39;00mfunc\u001B[38;5;241m.\u001B[39m\u001B[38;5;18m__qualname__\u001B[39m\u001B[38;5;132;01m}\u001B[39;00m\u001B[38;5;124m must be\u001B[39m\u001B[38;5;124m\"\u001B[39m,\n\u001B[0;32m    222\u001B[0m         \u001B[38;5;28mstr\u001B[39m(e),\n\u001B[0;32m    223\u001B[0m     )\n",
      "File \u001B[1;32m~\\anaconda3\\Lib\\site-packages\\sklearn\\model_selection\\_split.py:2660\u001B[0m, in \u001B[0;36mtrain_test_split\u001B[1;34m(test_size, train_size, random_state, shuffle, stratify, *arrays)\u001B[0m\n\u001B[0;32m   2657\u001B[0m arrays \u001B[38;5;241m=\u001B[39m indexable(\u001B[38;5;241m*\u001B[39marrays)\n\u001B[0;32m   2659\u001B[0m n_samples \u001B[38;5;241m=\u001B[39m _num_samples(arrays[\u001B[38;5;241m0\u001B[39m])\n\u001B[1;32m-> 2660\u001B[0m n_train, n_test \u001B[38;5;241m=\u001B[39m \u001B[43m_validate_shuffle_split\u001B[49m\u001B[43m(\u001B[49m\n\u001B[0;32m   2661\u001B[0m \u001B[43m    \u001B[49m\u001B[43mn_samples\u001B[49m\u001B[43m,\u001B[49m\u001B[43m \u001B[49m\u001B[43mtest_size\u001B[49m\u001B[43m,\u001B[49m\u001B[43m \u001B[49m\u001B[43mtrain_size\u001B[49m\u001B[43m,\u001B[49m\u001B[43m \u001B[49m\u001B[43mdefault_test_size\u001B[49m\u001B[38;5;241;43m=\u001B[39;49m\u001B[38;5;241;43m0.25\u001B[39;49m\n\u001B[0;32m   2662\u001B[0m \u001B[43m\u001B[49m\u001B[43m)\u001B[49m\n\u001B[0;32m   2664\u001B[0m \u001B[38;5;28;01mif\u001B[39;00m shuffle \u001B[38;5;129;01mis\u001B[39;00m \u001B[38;5;28;01mFalse\u001B[39;00m:\n\u001B[0;32m   2665\u001B[0m     \u001B[38;5;28;01mif\u001B[39;00m stratify \u001B[38;5;129;01mis\u001B[39;00m \u001B[38;5;129;01mnot\u001B[39;00m \u001B[38;5;28;01mNone\u001B[39;00m:\n",
      "File \u001B[1;32m~\\anaconda3\\Lib\\site-packages\\sklearn\\model_selection\\_split.py:2253\u001B[0m, in \u001B[0;36m_validate_shuffle_split\u001B[1;34m(n_samples, test_size, train_size, default_test_size)\u001B[0m\n\u001B[0;32m   2245\u001B[0m train_size_type \u001B[38;5;241m=\u001B[39m np\u001B[38;5;241m.\u001B[39masarray(train_size)\u001B[38;5;241m.\u001B[39mdtype\u001B[38;5;241m.\u001B[39mkind\n\u001B[0;32m   2247\u001B[0m \u001B[38;5;28;01mif\u001B[39;00m (\n\u001B[0;32m   2248\u001B[0m     test_size_type \u001B[38;5;241m==\u001B[39m \u001B[38;5;124m\"\u001B[39m\u001B[38;5;124mi\u001B[39m\u001B[38;5;124m\"\u001B[39m\n\u001B[0;32m   2249\u001B[0m     \u001B[38;5;129;01mand\u001B[39;00m (test_size \u001B[38;5;241m>\u001B[39m\u001B[38;5;241m=\u001B[39m n_samples \u001B[38;5;129;01mor\u001B[39;00m test_size \u001B[38;5;241m<\u001B[39m\u001B[38;5;241m=\u001B[39m \u001B[38;5;241m0\u001B[39m)\n\u001B[0;32m   2250\u001B[0m     \u001B[38;5;129;01mor\u001B[39;00m test_size_type \u001B[38;5;241m==\u001B[39m \u001B[38;5;124m\"\u001B[39m\u001B[38;5;124mf\u001B[39m\u001B[38;5;124m\"\u001B[39m\n\u001B[0;32m   2251\u001B[0m     \u001B[38;5;129;01mand\u001B[39;00m (test_size \u001B[38;5;241m<\u001B[39m\u001B[38;5;241m=\u001B[39m \u001B[38;5;241m0\u001B[39m \u001B[38;5;129;01mor\u001B[39;00m test_size \u001B[38;5;241m>\u001B[39m\u001B[38;5;241m=\u001B[39m \u001B[38;5;241m1\u001B[39m)\n\u001B[0;32m   2252\u001B[0m ):\n\u001B[1;32m-> 2253\u001B[0m     \u001B[38;5;28;01mraise\u001B[39;00m \u001B[38;5;167;01mValueError\u001B[39;00m(\n\u001B[0;32m   2254\u001B[0m         \u001B[38;5;124m\"\u001B[39m\u001B[38;5;124mtest_size=\u001B[39m\u001B[38;5;132;01m{0}\u001B[39;00m\u001B[38;5;124m should be either positive and smaller\u001B[39m\u001B[38;5;124m\"\u001B[39m\n\u001B[0;32m   2255\u001B[0m         \u001B[38;5;124m\"\u001B[39m\u001B[38;5;124m than the number of samples \u001B[39m\u001B[38;5;132;01m{1}\u001B[39;00m\u001B[38;5;124m or a float in the \u001B[39m\u001B[38;5;124m\"\u001B[39m\n\u001B[0;32m   2256\u001B[0m         \u001B[38;5;124m\"\u001B[39m\u001B[38;5;124m(0, 1) range\u001B[39m\u001B[38;5;124m\"\u001B[39m\u001B[38;5;241m.\u001B[39mformat(test_size, n_samples)\n\u001B[0;32m   2257\u001B[0m     )\n\u001B[0;32m   2259\u001B[0m \u001B[38;5;28;01mif\u001B[39;00m (\n\u001B[0;32m   2260\u001B[0m     train_size_type \u001B[38;5;241m==\u001B[39m \u001B[38;5;124m\"\u001B[39m\u001B[38;5;124mi\u001B[39m\u001B[38;5;124m\"\u001B[39m\n\u001B[0;32m   2261\u001B[0m     \u001B[38;5;129;01mand\u001B[39;00m (train_size \u001B[38;5;241m>\u001B[39m\u001B[38;5;241m=\u001B[39m n_samples \u001B[38;5;129;01mor\u001B[39;00m train_size \u001B[38;5;241m<\u001B[39m\u001B[38;5;241m=\u001B[39m \u001B[38;5;241m0\u001B[39m)\n\u001B[0;32m   2262\u001B[0m     \u001B[38;5;129;01mor\u001B[39;00m train_size_type \u001B[38;5;241m==\u001B[39m \u001B[38;5;124m\"\u001B[39m\u001B[38;5;124mf\u001B[39m\u001B[38;5;124m\"\u001B[39m\n\u001B[0;32m   2263\u001B[0m     \u001B[38;5;129;01mand\u001B[39;00m (train_size \u001B[38;5;241m<\u001B[39m\u001B[38;5;241m=\u001B[39m \u001B[38;5;241m0\u001B[39m \u001B[38;5;129;01mor\u001B[39;00m train_size \u001B[38;5;241m>\u001B[39m\u001B[38;5;241m=\u001B[39m \u001B[38;5;241m1\u001B[39m)\n\u001B[0;32m   2264\u001B[0m ):\n\u001B[0;32m   2265\u001B[0m     \u001B[38;5;28;01mraise\u001B[39;00m \u001B[38;5;167;01mValueError\u001B[39;00m(\n\u001B[0;32m   2266\u001B[0m         \u001B[38;5;124m\"\u001B[39m\u001B[38;5;124mtrain_size=\u001B[39m\u001B[38;5;132;01m{0}\u001B[39;00m\u001B[38;5;124m should be either positive and smaller\u001B[39m\u001B[38;5;124m\"\u001B[39m\n\u001B[0;32m   2267\u001B[0m         \u001B[38;5;124m\"\u001B[39m\u001B[38;5;124m than the number of samples \u001B[39m\u001B[38;5;132;01m{1}\u001B[39;00m\u001B[38;5;124m or a float in the \u001B[39m\u001B[38;5;124m\"\u001B[39m\n\u001B[0;32m   2268\u001B[0m         \u001B[38;5;124m\"\u001B[39m\u001B[38;5;124m(0, 1) range\u001B[39m\u001B[38;5;124m\"\u001B[39m\u001B[38;5;241m.\u001B[39mformat(train_size, n_samples)\n\u001B[0;32m   2269\u001B[0m     )\n",
      "\u001B[1;31mValueError\u001B[0m: test_size=1000 should be either positive and smaller than the number of samples 1000 or a float in the (0, 1) range"
     ]
    }
   ],
   "execution_count": 10
  },
  {
   "metadata": {},
   "cell_type": "code",
   "outputs": [],
   "execution_count": null,
   "source": "",
   "id": "75de2e7e180e3ca7"
  }
 ],
 "metadata": {
  "kernelspec": {
   "display_name": "Python 3",
   "language": "python",
   "name": "python3"
  },
  "language_info": {
   "codemirror_mode": {
    "name": "ipython",
    "version": 2
   },
   "file_extension": ".py",
   "mimetype": "text/x-python",
   "name": "python",
   "nbconvert_exporter": "python",
   "pygments_lexer": "ipython2",
   "version": "2.7.6"
  }
 },
 "nbformat": 4,
 "nbformat_minor": 5
}
