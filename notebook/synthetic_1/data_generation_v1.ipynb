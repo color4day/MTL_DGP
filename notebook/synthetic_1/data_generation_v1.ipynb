{
 "cells": [
  {
   "cell_type": "code",
   "metadata": {
    "ExecuteTime": {
     "end_time": "2024-08-29T06:21:53.460334Z",
     "start_time": "2024-08-29T06:21:48.235749Z"
    }
   },
   "source": [
    "##从dgp生成数据\n",
    "import os\n",
    "import pyro\n",
    "import torch\n",
    "import pickle\n",
    "import time\n",
    "\n",
    "import numpy as np\n",
    "import torch.nn as nn\n",
    "import matplotlib.pyplot as plt\n",
    "import pyro.distributions as dist\n",
    "\n",
    "from tqdm.auto import trange\n",
    "from pyro.nn import PyroModule, PyroSample, PyroParam\n",
    "from pyro.infer import MCMC, NUTS, SVI, Trace_ELBO, Predictive\n",
    "from pyro.distributions import constraints\n",
    "from pyro.infer.autoguide import AutoDiagonalNormal\n",
    "\n",
    "from src.dgp_rff.deep_layer import DeepGP, DeepGPNoBias, DeepEnsembleGP\n",
    "import os\n",
    "import pickle\n",
    "import numpy as np\n",
    "from matplotlib import pyplot as plt"
   ],
   "outputs": [],
   "execution_count": 1
  },
  {
   "metadata": {
    "ExecuteTime": {
     "end_time": "2024-08-29T06:27:27.106108Z",
     "start_time": "2024-08-29T06:27:27.102090Z"
    }
   },
   "cell_type": "code",
   "source": [
    "import torch\n",
    "torch.cuda.is_available()\n",
    "torch.cuda.current_device()\n",
    "device = torch.device(\"cuda\" if torch.cuda.is_available() else \"cpu\")\n",
    "torch.set_default_device(device)\n",
    "# cuda = torch.device('cuda') "
   ],
   "outputs": [],
   "execution_count": 13
  },
  {
   "metadata": {
    "ExecuteTime": {
     "end_time": "2024-08-29T06:27:27.503636Z",
     "start_time": "2024-08-29T06:27:27.500001Z"
    }
   },
   "cell_type": "code",
   "source": [
    "index = \"dgp\"\n",
    "fold = \"4_2\"\n",
    "#fold1: 2 layer x to y: 1 to 3 dim\n",
    "#fold2: 3 layer x to y: 1 to 5 dim\n"
   ],
   "outputs": [],
   "execution_count": 14
  },
  {
   "cell_type": "code",
   "metadata": {
    "ExecuteTime": {
     "end_time": "2024-08-29T06:27:27.946093Z",
     "start_time": "2024-08-29T06:27:27.938568Z"
    }
   },
   "source": [
    "class ModelDGP(PyroModule):\n",
    "    np.random.seed(1)\n",
    "    torch.manual_seed(1)\n",
    "    def __init__(self, dim_list=[1,1,1], J_list=[50,10]):\n",
    "        super().__init__()\n",
    "        \n",
    "        self.out_dim = dim_list[-1]\n",
    "        self.model = DeepGP(dim_list, J_list)\n",
    "        self.model.to('cuda')\n",
    "\n",
    "    def forward(self, x, y=None):\n",
    "        mu = self.model(x).squeeze() #10000*6\n",
    "        print(\"mushape\",mu.shape)\n",
    "        # batch shape | event shapt\n",
    "        # 10000       |\n",
    "        #scale = torch.FloatTensor([1e-8]*self.out_dim).cuda()\n",
    "        scale = pyro.sample(\"sigma\", dist.Gamma(torch.tensor(0.5, device='cuda'), torch.tensor(1.0, device='cuda'))).expand(self.out_dim)  # Infer the response noise\n",
    "        print(\"scale\", scale.shape)\n",
    "\n",
    "        # Sampling model\n",
    "        with pyro.plate(\"data\", x.shape[0]): # x.shape[0]=10000\n",
    "            # obs = xxx(\"obs\", mu, obs=y)\n",
    "            obs = pyro.sample(\"obs\", dist.MultivariateNormal(mu.cuda(), torch.diag(scale * scale).cuda()), obs=y)\n",
    "            print(\"obs\",obs.shape)\n",
    "\n",
    "\n",
    "            \n",
    "#         f1: phi(Omega x)W (+ epsilon1)\n",
    "#         f2: phi(Omega f1)W (+ epsilon2)\n",
    "        \n",
    "#         f2 + epsilon ~ N(0, Sigma)\n",
    "            \n",
    "        return mu\n"
   ],
   "outputs": [],
   "execution_count": 15
  },
  {
   "metadata": {
    "ExecuteTime": {
     "end_time": "2024-08-29T06:27:28.352091Z",
     "start_time": "2024-08-29T06:27:28.330933Z"
    }
   },
   "cell_type": "code",
   "source": [
    "#fold 1:\n",
    "# x_dim = 1\n",
    "# y_dim = 3\n",
    "# mymodel = ModelDGP(dim_list=[x_dim,10,y_dim], J_list=[50,10])\n",
    "#fold 2:\n",
    "x_dim = 1\n",
    "y_dim = 4\n",
    "#fold2:\n",
    "#mymodel = ModelDGP(dim_list=[x_dim,10,5,y_dim], J_list=[50,50,20])\n",
    "#fold3:\n",
    "# mymodel = ModelDGP(dim_list=[x_dim,10,20,10,20,y_dim], J_list=[50,50,20,20,20])\n",
    "#fold 4:\n",
    "mymodel = ModelDGP(dim_list=[x_dim,10,5,10,y_dim], J_list=[50,20,20,20])\n"
   ],
   "outputs": [
    {
     "name": "stdout",
     "output_type": "stream",
     "text": [
      "[SingleGP(\n",
      "  (layers): PyroModuleList(\n",
      "    (0): FirstLayer(\n",
      "      (layer): PyroLinear(in_features=1, out_features=50, bias=False)\n",
      "    )\n",
      "    (1): SecondLayer(\n",
      "      (layer): PyroLinear(in_features=100, out_features=10, bias=True)\n",
      "    )\n",
      "  )\n",
      "), SingleGP(\n",
      "  (layers): PyroModuleList(\n",
      "    (0): FirstLayer(\n",
      "      (layer): PyroLinear(in_features=10, out_features=20, bias=False)\n",
      "    )\n",
      "    (1): SecondLayer(\n",
      "      (layer): PyroLinear(in_features=40, out_features=5, bias=True)\n",
      "    )\n",
      "  )\n",
      "), SingleGP(\n",
      "  (layers): PyroModuleList(\n",
      "    (0): FirstLayer(\n",
      "      (layer): PyroLinear(in_features=5, out_features=20, bias=False)\n",
      "    )\n",
      "    (1): SecondLayer(\n",
      "      (layer): PyroLinear(in_features=40, out_features=10, bias=True)\n",
      "    )\n",
      "  )\n",
      "), SingleGP(\n",
      "  (layers): PyroModuleList(\n",
      "    (0): FirstLayer(\n",
      "      (layer): PyroLinear(in_features=10, out_features=20, bias=False)\n",
      "    )\n",
      "    (1): SecondLayer(\n",
      "      (layer): PyroLinear(in_features=40, out_features=4, bias=True)\n",
      "    )\n",
      "  )\n",
      ")]\n"
     ]
    }
   ],
   "execution_count": 16
  },
  {
   "metadata": {
    "ExecuteTime": {
     "end_time": "2024-08-29T06:27:29.664847Z",
     "start_time": "2024-08-29T06:27:29.613704Z"
    }
   },
   "cell_type": "code",
   "source": [
    "\n",
    "# Set random seed for reproducibility\n",
    "np.random.seed(1)\n",
    "\n",
    "# Generate data\n",
    "A =  np.array([[1,2,3]])\n",
    "\n",
    "# number of training samples\n",
    "n_train = 10000\n",
    "x_obs = np.linspace(-0.2, 0.2, n_train)\n",
    "noise = 0.2 * np.random.normal(0, 1, (n_train, y_dim))\n",
    "print(noise.shape)\n",
    "# tmp = x_obs.reshape(len(x_obs), 1) @ A\n",
    "# The X and Y have to be at least 2-dim\n",
    "xobs_torch = torch.from_numpy(x_obs).float().cuda().reshape(-1,1)\n",
    "noise_torch = torch.from_numpy(noise).float().cuda()\n",
    "\n",
    "y_obs = mymodel.forward(xobs_torch) + noise_torch\n",
    "print(\"yobsshape\",y_obs.shape)\n",
    "# y_obs = np.concatenate((np.sin(tmp), np.cos(tmp)), axis=1) + noise\n",
    "\n",
    "# Set plot limits and labels\n",
    "xlims = [-0.2, 0.2]\n",
    "\n",
    "x_train = x_obs\n",
    "y_train = y_obs\n",
    "print(y_train.shape)\n",
    "\n",
    "# number of test samples\n",
    "n_test = 100\n",
    "x_test = np.linspace(xlims[0], xlims[1], n_test)\n",
    "noise_test = 0.02 * np.random.normal(0, 1, (n_test, y_dim))\n",
    "noise_test_torch = torch.from_numpy(noise_test).float().cuda()\n",
    "print(\"noisetestshape\",noise_test.shape,noise_test_torch.shape)\n",
    "# tmp_test = x_test.reshape(len(x_test), 1) @ A\n",
    "x_test_torch = torch.from_numpy(x_test).float().cuda().reshape(-1,1)\n",
    "y_test = mymodel.forward(x_test_torch) + noise_test_torch\n",
    "\n",
    "# y_test = np.concatenate((np.sin(tmp_test), np.cos(tmp_test)), axis=1) + noise_test"
   ],
   "outputs": [
    {
     "name": "stdout",
     "output_type": "stream",
     "text": [
      "(10000, 4)\n",
      "mushape torch.Size([10000, 4])\n",
      "scale torch.Size([4])\n",
      "obs torch.Size([10000, 4])\n",
      "yobsshape torch.Size([10000, 4])\n",
      "torch.Size([10000, 4])\n",
      "noisetestshape (100, 4) torch.Size([100, 4])\n",
      "mushape torch.Size([100, 4])\n",
      "scale torch.Size([4])\n",
      "obs torch.Size([100, 4])\n"
     ]
    }
   ],
   "execution_count": 17
  },
  {
   "metadata": {
    "ExecuteTime": {
     "end_time": "2024-08-29T06:21:55.996096Z",
     "start_time": "2024-08-29T06:21:55.993554Z"
    }
   },
   "cell_type": "code",
   "source": "",
   "outputs": [],
   "execution_count": 6
  },
  {
   "metadata": {
    "ExecuteTime": {
     "end_time": "2024-08-29T06:21:56.002018Z",
     "start_time": "2024-08-29T06:21:55.998103Z"
    }
   },
   "cell_type": "code",
   "source": "os.chdir(\"../../\")",
   "outputs": [],
   "execution_count": 7
  },
  {
   "cell_type": "code",
   "metadata": {
    "ExecuteTime": {
     "end_time": "2024-08-29T06:27:32.250934Z",
     "start_time": "2024-08-29T06:27:32.150914Z"
    }
   },
   "source": [
    "\n",
    "cwd = os.getcwd()\n",
    "print(cwd)\n",
    "\n",
    "\n",
    "X_train_path = os.path.join(cwd, \"folds\", \"synthetic_\"+str(index)+\"_fold_\"+str(fold)+\"_X_train.txt\")\n",
    "X_test_path = os.path.join(cwd, \"folds\", \"synthetic_\"+str(index)+\"_fold_\"+str(fold)+\"_X_test.txt\")\n",
    "Y_train_path = os.path.join(cwd, \"folds\", \"synthetic_\"+str(index)+\"_fold_\"+str(fold)+\"_Y_train.txt\")\n",
    "Y_test_path = os.path.join(cwd, \"folds\", \"synthetic_\"+str(index)+\"_fold_\"+str(fold)+\"_Y_test.txt\")\n",
    "\n",
    "np.savetxt(X_train_path, x_train)\n",
    "np.savetxt(X_test_path, x_test)\n",
    "np.savetxt(Y_train_path, y_train.cpu().detach().numpy())\n",
    "np.savetxt(Y_test_path, y_test.cpu().detach().numpy())"
   ],
   "outputs": [
    {
     "name": "stdout",
     "output_type": "stream",
     "text": [
      "C:\\Users\\yuanq\\OneDrive\\Desktopold\\SB\\research\\DGPII\\program\\DGP-RFF-main\n"
     ]
    }
   ],
   "execution_count": 18
  },
  {
   "cell_type": "code",
   "metadata": {
    "ExecuteTime": {
     "end_time": "2024-06-22T06:49:25.142125Z",
     "start_time": "2024-06-22T06:49:25.139598Z"
    }
   },
   "source": [
    "np.random.seed(42)\n",
    "\n",
    "# Read data\n",
    "cwd = os.getcwd()\n",
    "print(cwd)\n",
    "index = \"dgp\"\n",
    "fold = \"4_1\"\n",
    "\n",
    "X_train_path = os.path.join(cwd, \"folds\", \"synthetic_\"+str(index)+\"_fold_\"+str(fold)+\"_X_train.txt\")\n",
    "# X_test_path = os.path.join(cwd, \"folds\", \"synthetic_\"+str(index)+\"_fold_\"+str(fold)+\"_X_test.txt\")\n",
    "Y_train_path = os.path.join(cwd, \"folds\", \"synthetic_\"+str(index)+\"_fold_\"+str(fold)+\"_Y_train.txt\")\n",
    "# Y_test_path = os.path.join(cwd, \"folds\", \"synthetic_\"+str(index)+\"_fold_\"+str(fold)+\"_Y_test.txt\")\n",
    "\n",
    "from sklearn.model_selection import train_test_split\n",
    "\n",
    "# Load data\n",
    "x_obs = np.loadtxt(X_train_path)  # Replace 'X_train_path' with your actual file path\n",
    "y_obs = np.loadtxt(Y_train_path)  # Replace 'Y_train_path' with your actual file path\n",
    "\n",
    "# Split data into training and test sets with 500 test points\n",
    "x_train, x_test, y_train, y_test = train_test_split(x_obs, y_obs, test_size=500, random_state=42)\n",
    "\n",
    "x_train = torch.from_numpy(x_train).float().reshape(-1,1)\n",
    "y_train = torch.from_numpy(y_train).float()\n",
    "x_test = torch.from_numpy(x_test).float().reshape(-1,1)\n",
    "y_test = torch.from_numpy(y_test).float()\n",
    "\n",
    "# # Check the sizes\n",
    "# print(f'Training set size: {len(X_train)}')\n",
    "# print(f'Test set size: {len(X_test)}')\n",
    "# \n",
    "# x_obs = np.loadtxt(X_train_path)\n",
    "# y_obs = np.loadtxt(Y_train_path)\n",
    "# x_val = np.loadtxt(X_test_path)\n",
    "# y_val = np.loadtxt(Y_test_path)\n",
    "\n",
    "# Set plot limits and labels\n",
    "xlims = [-0.2, 0.2]\n",
    "# "
   ],
   "outputs": [],
   "execution_count": 8
  }
 ],
 "metadata": {
  "kernelspec": {
   "display_name": "Python 3",
   "language": "python",
   "name": "python3"
  },
  "language_info": {
   "codemirror_mode": {
    "name": "ipython",
    "version": 3
   },
   "file_extension": ".py",
   "mimetype": "text/x-python",
   "name": "python",
   "nbconvert_exporter": "python",
   "pygments_lexer": "ipython3",
   "version": "3.7.6"
  }
 },
 "nbformat": 4,
 "nbformat_minor": 4
}
