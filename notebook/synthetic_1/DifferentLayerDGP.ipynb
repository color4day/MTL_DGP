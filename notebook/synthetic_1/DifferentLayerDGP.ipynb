{
 "cells": [
  {
   "cell_type": "code",
   "id": "c1c764c9-b1d3-4418-8b28-ceffbb97846d",
   "metadata": {
    "tags": [],
    "ExecuteTime": {
     "end_time": "2024-06-05T07:31:13.038923Z",
     "start_time": "2024-06-05T07:31:09.314834Z"
    }
   },
   "source": [
    "import os\n",
    "import pyro\n",
    "import torch\n",
    "import pickle\n",
    "import time\n",
    "\n",
    "import numpy as np\n",
    "import torch.nn as nn\n",
    "import matplotlib.pyplot as plt\n",
    "import pyro.distributions as dist\n",
    "\n",
    "from tqdm.auto import trange\n",
    "from pyro.nn import PyroModule, PyroSample, PyroParam\n",
    "from pyro.infer import MCMC, NUTS, SVI, Trace_ELBO, Predictive\n",
    "from pyro.distributions import constraints\n",
    "from pyro.infer.autoguide import AutoDiagonalNormal\n",
    "\n",
    "os.chdir(\"../../\")\n",
    "\n",
    "from src.dgp_rff.deep_layer import DeepGP, DeepGPNoBias, DeepEnsembleGP,DeepGPFix\n",
    "# from src.dgp_rff.get_variable import getvalue"
   ],
   "outputs": [],
   "execution_count": 1
  },
  {
   "metadata": {
    "ExecuteTime": {
     "end_time": "2024-06-05T07:31:13.044503Z",
     "start_time": "2024-06-05T07:31:13.039928Z"
    }
   },
   "cell_type": "code",
   "source": "from src.dgp_rff.get_variable import getvalue2",
   "id": "70e0c0c61f0b29cb",
   "outputs": [],
   "execution_count": 2
  },
  {
   "metadata": {
    "ExecuteTime": {
     "end_time": "2024-06-05T07:31:13.076822Z",
     "start_time": "2024-06-05T07:31:13.045507Z"
    }
   },
   "cell_type": "code",
   "source": [
    "import torch\n",
    "torch.cuda.is_available()\n",
    "# trouble shoot see this link:https://stackoverflow.com/questions/77068908/how-to-install-pytorch-with-cuda-support-on-windows-11-cuda-12-no-matching"
   ],
   "id": "f56a04aab430ee20",
   "outputs": [
    {
     "data": {
      "text/plain": [
       "True"
      ]
     },
     "execution_count": 3,
     "metadata": {},
     "output_type": "execute_result"
    }
   ],
   "execution_count": 3
  },
  {
   "metadata": {
    "ExecuteTime": {
     "end_time": "2024-06-05T07:31:13.083400Z",
     "start_time": "2024-06-05T07:31:13.077865Z"
    }
   },
   "cell_type": "code",
   "source": [
    "# start = time.perf_counter()\n",
    "torch.cuda.current_device()\n",
    "device = torch.device(\"cuda\" if torch.cuda.is_available() else \"cpu\")\n",
    "torch.set_default_device(device)\n",
    "# cuda = torch.device('cuda') "
   ],
   "id": "e4ffde22a3c33392",
   "outputs": [],
   "execution_count": 4
  },
  {
   "metadata": {},
   "cell_type": "markdown",
   "source": [
    "  # Next step\n",
    "\n",
    "0. Get familiar with the coding structure\n",
    "1. CPU -> GPU\n",
    "2. Last step without bias\n",
    "3. Figure out how they train\n",
    "4. How to access the posterior mean and std/scale from the model\n",
    "5. Learn pickle: numpy.ndarray, png\n",
    "6. ....\n",
    "7. construct a DeepGP class"
   ],
   "id": "858c7a1400939da9"
  },
  {
   "cell_type": "code",
   "id": "f88c1c9b-ced6-45cf-ae43-59c6cad2d4b1",
   "metadata": {
    "tags": [],
    "ExecuteTime": {
     "end_time": "2024-06-05T07:31:13.155435Z",
     "start_time": "2024-06-05T07:31:13.085444Z"
    }
   },
   "source": [
    "# Set random seed for reproducibility\n",
    "np.random.seed(1)\n",
    "\n",
    "# Read data\n",
    "cwd = os.getcwd()\n",
    "print(cwd)\n",
    "\n",
    "X_train_path = os.path.join(cwd, \"folds\", \"synthetic_3_fold_1_X_train.txt\")\n",
    "X_test_path = os.path.join(cwd, \"folds\", \"synthetic_3_fold_1_X_test.txt\")\n",
    "Y_train_path = os.path.join(cwd, \"folds\", \"synthetic_3_fold_1_Y_train.txt\")\n",
    "Y_test_path = os.path.join(cwd, \"folds\", \"synthetic_3_fold_1_Y_test.txt\")\n",
    "\n",
    "x_obs = np.loadtxt(X_train_path)\n",
    "y_obs = np.loadtxt(Y_train_path)\n",
    "x_val = np.loadtxt(X_test_path)\n",
    "y_val = np.loadtxt(Y_test_path)\n",
    "\n",
    "# Set plot limits and labels\n",
    "xlims = [-0.2, 0.2]\n",
    "\n",
    "# The X and Y have to be at least 2-dim\n",
    "x_train = torch.from_numpy(x_obs).float()#.reshape(-1,1) 一般不需要reshape改变张量shape\n",
    "y_train = torch.from_numpy(y_obs).float()\n",
    "x_test = torch.from_numpy(x_val).float()#.reshape(-1,1)\n",
    "y_test = torch.from_numpy(y_val).float()"
   ],
   "outputs": [
    {
     "name": "stdout",
     "output_type": "stream",
     "text": [
      "C:\\Users\\yuanq\\OneDrive\\Desktopold\\SB\\research\\DGPII\\program\\DGP-RFF-main\n"
     ]
    }
   ],
   "execution_count": 5
  },
  {
   "metadata": {
    "ExecuteTime": {
     "end_time": "2024-06-05T07:31:13.161322Z",
     "start_time": "2024-06-05T07:31:13.157442Z"
    }
   },
   "cell_type": "code",
   "source": "",
   "id": "98fc2ea94e79cc86",
   "outputs": [],
   "execution_count": 5
  },
  {
   "metadata": {
    "ExecuteTime": {
     "end_time": "2024-06-05T07:31:13.318546Z",
     "start_time": "2024-06-05T07:31:13.163330Z"
    }
   },
   "cell_type": "code",
   "source": "x_train = x_train.cuda()\n",
   "id": "86d4033f31f79e6e",
   "outputs": [],
   "execution_count": 6
  },
  {
   "metadata": {
    "ExecuteTime": {
     "end_time": "2024-06-05T07:31:13.322700Z",
     "start_time": "2024-06-05T07:31:13.319577Z"
    }
   },
   "cell_type": "code",
   "source": [
    "y_train = y_train.cuda()\n",
    "x_test = x_test.cuda()\n",
    "y_test = y_test.cuda()"
   ],
   "id": "dc3487e3dd203d23",
   "outputs": [],
   "execution_count": 7
  },
  {
   "cell_type": "code",
   "id": "4d60fd52-887a-4ca5-9b03-8c4777801f8c",
   "metadata": {
    "tags": [],
    "ExecuteTime": {
     "end_time": "2024-06-05T07:31:13.329815Z",
     "start_time": "2024-06-05T07:31:13.323708Z"
    }
   },
   "source": [
    "class ModelDGP(PyroModule):\n",
    "    def __init__(self, dim_list=[1,1,1], J_list=[50,10]):\n",
    "        super().__init__()\n",
    "        \n",
    "        self.out_dim = dim_list[-1]\n",
    "        self.model = DeepGP(dim_list, J_list)\n",
    "        self.model.to('cuda')\n",
    "\n",
    "    def forward(self, x, y=None):\n",
    "        mu = self.model(x).squeeze() #10000*6\n",
    "        \n",
    "        # batch shape | event shapt\n",
    "        # 10000       |\n",
    "        #scale = torch.FloatTensor([1e-8]*self.out_dim).cuda()\n",
    "        scale = pyro.sample(\"sigma\", dist.Gamma(torch.tensor(0.5, device='cuda'), torch.tensor(1.0, device='cuda'))).expand(self.out_dim)  # Infer the response noise\n",
    "\n",
    "        # Sampling model\n",
    "        with pyro.plate(\"data\", x.shape[0]): # x.shape[0]=10000\n",
    "            # obs = xxx(\"obs\", mu, obs=y)\n",
    "            obs = pyro.sample(\"obs\", dist.MultivariateNormal(mu.cuda(), torch.diag(scale * scale).cuda()), obs=y)\n",
    "\n",
    "\n",
    "            \n",
    "#         f1: phi(Omega x)W (+ epsilon1)\n",
    "#         f2: phi(Omega f1)W (+ epsilon2)\n",
    "        \n",
    "#         f2 + epsilon ~ N(0, Sigma)\n",
    "            \n",
    "        return mu"
   ],
   "outputs": [],
   "execution_count": 8
  },
  {
   "metadata": {
    "ExecuteTime": {
     "end_time": "2024-06-05T07:31:13.337851Z",
     "start_time": "2024-06-05T07:31:13.330822Z"
    }
   },
   "cell_type": "code",
   "source": [
    "class ModelDGPFix(PyroModule):\n",
    "    def __init__(self, dim_list=[1,1,1], J_list=[50,10]):\n",
    "        super().__init__()\n",
    "        \n",
    "        self.out_dim = dim_list[-1]\n",
    "        self.model = DeepGPFix(dim_list, J_list)\n",
    "        self.model.to('cuda')\n",
    "\n",
    "    def forward(self, x, y=None):\n",
    "        mu = self.model(x).squeeze() #10000*6\n",
    "        \n",
    "        # batch shape | event shapt\n",
    "        # 10000       |\n",
    "        #scale = torch.FloatTensor([1e-8]*self.out_dim).cuda()\n",
    "        scale = pyro.sample(\"sigma\", dist.Gamma(torch.tensor(0.5, device='cuda'), torch.tensor(1.0, device='cuda'))).expand(self.out_dim)  # Infer the response noise\n",
    "\n",
    "        # Sampling model\n",
    "        with pyro.plate(\"data\", x.shape[0]): # x.shape[0]=10000\n",
    "            # obs = xxx(\"obs\", mu, obs=y)\n",
    "            obs = pyro.sample(\"obs\", dist.MultivariateNormal(mu.cuda(), torch.diag(scale * scale).cuda()), obs=y)\n",
    "\n",
    "\n",
    "            \n",
    "#         f1: phi(Omega x)W (+ epsilon1)\n",
    "#         f2: phi(Omega f1)W (+ epsilon2)\n",
    "        \n",
    "#         f2 + epsilon ~ N(0, Sigma)\n",
    "            \n",
    "        return mu"
   ],
   "id": "21654cd632dfe199",
   "outputs": [],
   "execution_count": 9
  },
  {
   "metadata": {
    "ExecuteTime": {
     "end_time": "2024-06-05T07:31:13.344004Z",
     "start_time": "2024-06-05T07:31:13.337851Z"
    }
   },
   "cell_type": "code",
   "source": [
    "class ModelEnsembleDGP(PyroModule):\n",
    "    def __init__(self, dim_list = [1,1,1], J_list=[50,10]):\n",
    "        super().__init__()\n",
    "        self.out_dim = dim_list[-1]\n",
    "        self.model = DeepEnsembleGP(dim_list, J_list,2)\n",
    "        self.model.to('cuda')\n",
    "        \n",
    "    def forward(self, x, y=None):\n",
    "        mu = self.model(x).squeeze() #10000*6\n",
    "        # mu = self.linear(x1).squeeze()\n",
    "        # batch shape | event shapt\n",
    "        # 10000       |\n",
    "        #scale = torch.FloatTensor([1e-8]*self.out_dim).cuda()\n",
    "        scale = pyro.sample(\"sigma\", dist.Gamma(torch.tensor(0.5, device='cuda'), torch.tensor(1.0, device='cuda'))).expand(self.out_dim)  # Infer the response noise\n",
    "\n",
    "        # Sampling model\n",
    "        with pyro.plate(\"data\", x.shape[0]): # x.shape[0]=10000\n",
    "            # obs = xxx(\"obs\", mu, obs=y)\n",
    "            obs = pyro.sample(\"obs\", dist.MultivariateNormal(mu.cuda(), torch.diag(scale * scale).cuda()), obs=y)\n",
    "\n",
    "\n",
    "            \n",
    "#         f1: phi(Omega x)W (+ epsilon1)\n",
    "#         f2: phi(Omega f1)W (+ epsilon2)\n",
    "        \n",
    "#         f2 + epsilon ~ N(0, Sigma)\n",
    "            \n",
    "        return mu"
   ],
   "id": "4eb4ddf9bee12738",
   "outputs": [],
   "execution_count": 10
  },
  {
   "metadata": {
    "ExecuteTime": {
     "end_time": "2024-06-05T07:31:13.350106Z",
     "start_time": "2024-06-05T07:31:13.344004Z"
    }
   },
   "cell_type": "code",
   "source": [
    "class ModelNoBiasDGP(PyroModule):\n",
    "    def __init__(self, dim_list=[1,1,1], J_list=[50,10]):\n",
    "        super().__init__()\n",
    "        \n",
    "        self.out_dim = dim_list[-1]\n",
    "        self.model = DeepGPNoBias(dim_list, J_list)\n",
    "        self.model.to('cuda')\n",
    "\n",
    "    def forward(self, x, y=None):\n",
    "        mu = self.model(x).squeeze() #10000*6\n",
    "        \n",
    "        # batch shape | event shapt\n",
    "        # 10000       |\n",
    "        \n",
    "        scale = pyro.sample(\"sigma\", dist.Gamma(torch.tensor(0.5, device='cuda'), torch.tensor(1.0, device='cuda'))).expand(self.out_dim)  # Infer the response noise\n",
    "\n",
    "        # Sampling model\n",
    "        with pyro.plate(\"data\", x.shape[0]): # x.shape[0]=10000\n",
    "            # obs = xxx(\"obs\", mu, obs=y)\n",
    "            obs = pyro.sample( \"obs\", dist.MultivariateNormal(mu.cuda(), torch.diag(scale * scale).cuda()), obs=y)\n",
    "            \n",
    "#         f1: phi(Omega x)W (+ epsilon1)\n",
    "#         f2: phi(Omega f1)W (+ epsilon2)\n",
    "        \n",
    "#         f2 + epsilon ~ N(0, Sigma)\n",
    "            \n",
    "        return mu"
   ],
   "id": "cb293b46831880ac",
   "outputs": [],
   "execution_count": 11
  },
  {
   "metadata": {
    "ExecuteTime": {
     "end_time": "2024-06-05T07:31:13.359466Z",
     "start_time": "2024-06-05T07:31:13.351115Z"
    }
   },
   "cell_type": "code",
   "source": "print([x_train.shape[1],10,y_train.shape[1]])",
   "id": "588f9493019bbefc",
   "outputs": [
    {
     "name": "stdout",
     "output_type": "stream",
     "text": [
      "[2, 10, 2]\n"
     ]
    }
   ],
   "execution_count": 12
  },
  {
   "cell_type": "code",
   "id": "71f9724a8eb2b703",
   "metadata": {
    "tags": [],
    "ExecuteTime": {
     "end_time": "2024-06-05T07:31:14.051818Z",
     "start_time": "2024-06-05T07:31:13.362471Z"
    }
   },
   "source": [
    "#model = Model(in_dim_list=[x_train.shape[1],10], out_dim_list=[10,y_train.shape[1]], J_list=[50,10])\n",
    "# mymodel_4layer = ModelDGP(dim_list=[x_train.shape[1],10,20,y_train.shape[1]], J_list=[50,10,20])\n",
    "mymodel_4layer = ModelDGPFix(dim_list=[x_train.shape[1],10,10,y_train.shape[1]], J_list=[50,50,50])\n",
    "print(\"x_train.shape\",x_train.shape)\n",
    "print(y_train.shape)\n",
    "mymodel = mymodel_4layer.to('cuda')"
   ],
   "outputs": [
    {
     "name": "stdout",
     "output_type": "stream",
     "text": [
      "[SingleGPFix(\n",
      "  (layers): PyroModuleList(\n",
      "    (0): SingleLayerFix(\n",
      "      (layer): PyroLinear(in_features=200, out_features=10, bias=True)\n",
      "    )\n",
      "  )\n",
      "), SingleGPFix(\n",
      "  (layers): PyroModuleList(\n",
      "    (0): SingleLayerFix(\n",
      "      (layer): PyroLinear(in_features=200, out_features=10, bias=True)\n",
      "    )\n",
      "  )\n",
      "), SingleGPFix(\n",
      "  (layers): PyroModuleList(\n",
      "    (0): SingleLayerFix(\n",
      "      (layer): PyroLinear(in_features=200, out_features=2, bias=True)\n",
      "    )\n",
      "  )\n",
      ")]\n",
      "x_train.shape torch.Size([10000, 2])\n",
      "torch.Size([10000, 2])\n"
     ]
    }
   ],
   "execution_count": 13
  },
  {
   "metadata": {
    "ExecuteTime": {
     "end_time": "2024-06-05T07:31:14.061127Z",
     "start_time": "2024-06-05T07:31:14.052824Z"
    }
   },
   "cell_type": "code",
   "source": [
    "mymodel_3layer = ModelDGPFix(dim_list=[x_train.shape[1],10,y_train.shape[1]], J_list=[50,50])\n",
    "print(\"x_train.shape\",x_train.shape)\n",
    "print(y_train.shape)\n",
    "mymodel = mymodel_3layer.to('cuda')"
   ],
   "id": "ce8c10d29382080a",
   "outputs": [
    {
     "name": "stdout",
     "output_type": "stream",
     "text": [
      "[SingleGPFix(\n",
      "  (layers): PyroModuleList(\n",
      "    (0): SingleLayerFix(\n",
      "      (layer): PyroLinear(in_features=200, out_features=10, bias=True)\n",
      "    )\n",
      "  )\n",
      "), SingleGPFix(\n",
      "  (layers): PyroModuleList(\n",
      "    (0): SingleLayerFix(\n",
      "      (layer): PyroLinear(in_features=200, out_features=2, bias=True)\n",
      "    )\n",
      "  )\n",
      ")]\n",
      "x_train.shape torch.Size([10000, 2])\n",
      "torch.Size([10000, 2])\n"
     ]
    }
   ],
   "execution_count": 14
  },
  {
   "metadata": {
    "ExecuteTime": {
     "end_time": "2024-06-05T07:36:05.889825Z",
     "start_time": "2024-06-05T07:31:14.062132Z"
    }
   },
   "cell_type": "code",
   "source": [
    "mean_field_guide = AutoDiagonalNormal(mymodel_4layer)\n",
    "optimizer = pyro.optim.Adam({\"lr\": 0.001})\n",
    "\n",
    "svi = SVI(mymodel_4layer, mean_field_guide, optimizer, loss=Trace_ELBO())\n",
    "pyro.clear_param_store()\n",
    "\n",
    "num_epochs = 15000\n",
    "progress_bar = trange(num_epochs)\n",
    "losslist = []\n",
    "l = 500\n",
    "\n",
    "interval = max(num_epochs//l, 1)\n",
    "for epoch in progress_bar:\n",
    "    loss = svi.step(x_train, y_train)\n",
    "    if epoch % interval == 0:\n",
    "        losslist.append(loss/ x_train.shape[0])\n",
    "    progress_bar.set_postfix(loss=f\"{loss / x_train.shape[0]:.3f}\")"
   ],
   "id": "b3ecd508-5a6a-41ba-aac0-a5ffd711229a",
   "outputs": [
    {
     "data": {
      "text/plain": [
       "  0%|          | 0/15000 [00:00<?, ?it/s]"
      ],
      "application/vnd.jupyter.widget-view+json": {
       "version_major": 2,
       "version_minor": 0,
       "model_id": "070081892fc9403bb4bb2e1a87d52479"
      }
     },
     "metadata": {},
     "output_type": "display_data"
    },
    {
     "ename": "KeyboardInterrupt",
     "evalue": "",
     "output_type": "error",
     "traceback": [
      "\u001B[1;31m---------------------------------------------------------------------------\u001B[0m",
      "\u001B[1;31mKeyboardInterrupt\u001B[0m                         Traceback (most recent call last)",
      "Cell \u001B[1;32mIn[15], line 14\u001B[0m\n\u001B[0;32m     12\u001B[0m interval \u001B[38;5;241m=\u001B[39m \u001B[38;5;28mmax\u001B[39m(num_epochs\u001B[38;5;241m/\u001B[39m\u001B[38;5;241m/\u001B[39ml, \u001B[38;5;241m1\u001B[39m)\n\u001B[0;32m     13\u001B[0m \u001B[38;5;28;01mfor\u001B[39;00m epoch \u001B[38;5;129;01min\u001B[39;00m progress_bar:\n\u001B[1;32m---> 14\u001B[0m     loss \u001B[38;5;241m=\u001B[39m svi\u001B[38;5;241m.\u001B[39mstep(x_train, y_train)\n\u001B[0;32m     15\u001B[0m     \u001B[38;5;28;01mif\u001B[39;00m epoch \u001B[38;5;241m%\u001B[39m interval \u001B[38;5;241m==\u001B[39m \u001B[38;5;241m0\u001B[39m:\n\u001B[0;32m     16\u001B[0m         losslist\u001B[38;5;241m.\u001B[39mappend(loss\u001B[38;5;241m/\u001B[39m x_train\u001B[38;5;241m.\u001B[39mshape[\u001B[38;5;241m0\u001B[39m])\n",
      "File \u001B[1;32m~\\anaconda3\\Lib\\site-packages\\pyro\\infer\\svi.py:145\u001B[0m, in \u001B[0;36mSVI.step\u001B[1;34m(self, *args, **kwargs)\u001B[0m\n\u001B[0;32m    143\u001B[0m \u001B[38;5;66;03m# get loss and compute gradients\u001B[39;00m\n\u001B[0;32m    144\u001B[0m \u001B[38;5;28;01mwith\u001B[39;00m poutine\u001B[38;5;241m.\u001B[39mtrace(param_only\u001B[38;5;241m=\u001B[39m\u001B[38;5;28;01mTrue\u001B[39;00m) \u001B[38;5;28;01mas\u001B[39;00m param_capture:\n\u001B[1;32m--> 145\u001B[0m     loss \u001B[38;5;241m=\u001B[39m \u001B[38;5;28mself\u001B[39m\u001B[38;5;241m.\u001B[39mloss_and_grads(\u001B[38;5;28mself\u001B[39m\u001B[38;5;241m.\u001B[39mmodel, \u001B[38;5;28mself\u001B[39m\u001B[38;5;241m.\u001B[39mguide, \u001B[38;5;241m*\u001B[39margs, \u001B[38;5;241m*\u001B[39m\u001B[38;5;241m*\u001B[39mkwargs)\n\u001B[0;32m    147\u001B[0m params \u001B[38;5;241m=\u001B[39m \u001B[38;5;28mset\u001B[39m(\n\u001B[0;32m    148\u001B[0m     site[\u001B[38;5;124m\"\u001B[39m\u001B[38;5;124mvalue\u001B[39m\u001B[38;5;124m\"\u001B[39m]\u001B[38;5;241m.\u001B[39munconstrained() \u001B[38;5;28;01mfor\u001B[39;00m site \u001B[38;5;129;01min\u001B[39;00m param_capture\u001B[38;5;241m.\u001B[39mtrace\u001B[38;5;241m.\u001B[39mnodes\u001B[38;5;241m.\u001B[39mvalues()\n\u001B[0;32m    149\u001B[0m )\n\u001B[0;32m    151\u001B[0m \u001B[38;5;66;03m# actually perform gradient steps\u001B[39;00m\n\u001B[0;32m    152\u001B[0m \u001B[38;5;66;03m# torch.optim objects gets instantiated for any params that haven't been seen yet\u001B[39;00m\n",
      "File \u001B[1;32m~\\anaconda3\\Lib\\site-packages\\pyro\\infer\\trace_elbo.py:141\u001B[0m, in \u001B[0;36mTrace_ELBO.loss_and_grads\u001B[1;34m(self, model, guide, *args, **kwargs)\u001B[0m\n\u001B[0;32m    139\u001B[0m \u001B[38;5;66;03m# grab a trace from the generator\u001B[39;00m\n\u001B[0;32m    140\u001B[0m \u001B[38;5;28;01mfor\u001B[39;00m model_trace, guide_trace \u001B[38;5;129;01min\u001B[39;00m \u001B[38;5;28mself\u001B[39m\u001B[38;5;241m.\u001B[39m_get_traces(model, guide, args, kwargs):\n\u001B[1;32m--> 141\u001B[0m     loss_particle, surrogate_loss_particle \u001B[38;5;241m=\u001B[39m \u001B[38;5;28mself\u001B[39m\u001B[38;5;241m.\u001B[39m_differentiable_loss_particle(\n\u001B[0;32m    142\u001B[0m         model_trace, guide_trace\n\u001B[0;32m    143\u001B[0m     )\n\u001B[0;32m    144\u001B[0m     loss \u001B[38;5;241m+\u001B[39m\u001B[38;5;241m=\u001B[39m loss_particle \u001B[38;5;241m/\u001B[39m \u001B[38;5;28mself\u001B[39m\u001B[38;5;241m.\u001B[39mnum_particles\n\u001B[0;32m    146\u001B[0m     \u001B[38;5;66;03m# collect parameters to train from model and guide\u001B[39;00m\n",
      "File \u001B[1;32m~\\anaconda3\\Lib\\site-packages\\pyro\\infer\\trace_elbo.py:101\u001B[0m, in \u001B[0;36mTrace_ELBO._differentiable_loss_particle\u001B[1;34m(self, model_trace, guide_trace)\u001B[0m\n\u001B[0;32m     97\u001B[0m elbo_particle \u001B[38;5;241m=\u001B[39m elbo_particle \u001B[38;5;241m-\u001B[39m torch_item(site[\u001B[38;5;124m\"\u001B[39m\u001B[38;5;124mlog_prob_sum\u001B[39m\u001B[38;5;124m\"\u001B[39m])\n\u001B[0;32m     99\u001B[0m \u001B[38;5;28;01mif\u001B[39;00m \u001B[38;5;129;01mnot\u001B[39;00m is_identically_zero(entropy_term):\n\u001B[0;32m    100\u001B[0m     surrogate_elbo_particle \u001B[38;5;241m=\u001B[39m (\n\u001B[1;32m--> 101\u001B[0m         surrogate_elbo_particle \u001B[38;5;241m-\u001B[39m entropy_term\u001B[38;5;241m.\u001B[39msum()\n\u001B[0;32m    102\u001B[0m     )\n\u001B[0;32m    104\u001B[0m \u001B[38;5;28;01mif\u001B[39;00m \u001B[38;5;129;01mnot\u001B[39;00m is_identically_zero(score_function_term):\n\u001B[0;32m    105\u001B[0m     \u001B[38;5;28;01mif\u001B[39;00m log_r \u001B[38;5;129;01mis\u001B[39;00m \u001B[38;5;28;01mNone\u001B[39;00m:\n",
      "File \u001B[1;32m~\\anaconda3\\Lib\\site-packages\\torch\\utils\\_device.py:62\u001B[0m, in \u001B[0;36mDeviceContext.__torch_function__\u001B[1;34m(self, func, types, args, kwargs)\u001B[0m\n\u001B[0;32m     60\u001B[0m \u001B[38;5;28;01mif\u001B[39;00m func \u001B[38;5;129;01min\u001B[39;00m _device_constructors() \u001B[38;5;129;01mand\u001B[39;00m kwargs\u001B[38;5;241m.\u001B[39mget(\u001B[38;5;124m'\u001B[39m\u001B[38;5;124mdevice\u001B[39m\u001B[38;5;124m'\u001B[39m) \u001B[38;5;129;01mis\u001B[39;00m \u001B[38;5;28;01mNone\u001B[39;00m:\n\u001B[0;32m     61\u001B[0m     kwargs[\u001B[38;5;124m'\u001B[39m\u001B[38;5;124mdevice\u001B[39m\u001B[38;5;124m'\u001B[39m] \u001B[38;5;241m=\u001B[39m \u001B[38;5;28mself\u001B[39m\u001B[38;5;241m.\u001B[39mdevice\n\u001B[1;32m---> 62\u001B[0m \u001B[38;5;28;01mreturn\u001B[39;00m func(\u001B[38;5;241m*\u001B[39margs, \u001B[38;5;241m*\u001B[39m\u001B[38;5;241m*\u001B[39mkwargs)\n",
      "\u001B[1;31mKeyboardInterrupt\u001B[0m: "
     ]
    }
   ],
   "execution_count": 15
  },
  {
   "metadata": {},
   "cell_type": "code",
   "source": "plt.plot(losslist)",
   "id": "75a233f0d9fa1f56",
   "outputs": [],
   "execution_count": null
  },
  {
   "metadata": {},
   "cell_type": "code",
   "source": [
    "param_store = pyro.get_param_store()\n",
    "for name, value in param_store.items():\n",
    "    print(f\"{name}: {value}\")"
   ],
   "id": "59ab480c1d00b0f0",
   "outputs": [],
   "execution_count": null
  },
  {
   "metadata": {},
   "cell_type": "code",
   "source": "mymodel.parameters()",
   "id": "b162f80e752f771f",
   "outputs": [],
   "execution_count": null
  },
  {
   "cell_type": "code",
   "id": "b8f9a0fc-eaba-49d6-b2b7-25d2900d464f",
   "metadata": {
    "tags": []
   },
   "source": [
    "predictive = Predictive(mymodel_4layer, guide=mean_field_guide, num_samples=500)\n",
    "preds = predictive(x_test)"
   ],
   "outputs": [],
   "execution_count": null
  },
  {
   "cell_type": "code",
   "id": "3f9017b0-0419-4084-8a67-9e0a8d05a425",
   "metadata": {
    "tags": []
   },
   "source": "y_pred = preds['obs'].cpu().detach().numpy().mean(axis=0)",
   "outputs": [],
   "execution_count": null
  },
  {
   "metadata": {},
   "cell_type": "code",
   "source": "preds['obs'].shape",
   "id": "f1f352282a649f7c",
   "outputs": [],
   "execution_count": null
  },
  {
   "metadata": {},
   "cell_type": "code",
   "source": "y_obs.shape",
   "id": "8b26ef5866198da2",
   "outputs": [],
   "execution_count": null
  },
  {
   "cell_type": "code",
   "id": "74966241-fe23-4a9e-b720-3a2530374deb",
   "metadata": {
    "collapsed": true,
    "jupyter": {
     "outputs_hidden": true
    },
    "tags": []
   },
   "source": [
    "for d in range(y_train.shape[1]):\n",
    "    plt.plot(x_obs, y_obs[:,d], label=\"Observation\")\n",
    "    plt.plot(x_test.cpu(), y_pred[:,d], label=\"Prediction\")\n",
    "    plt.legend()\n",
    "    plt.show()"
   ],
   "outputs": [],
   "execution_count": null
  },
  {
   "metadata": {},
   "cell_type": "code",
   "source": "getvalue2(mymodel_4layer,ensemble = False)",
   "id": "aebe154b3acb8281",
   "outputs": [],
   "execution_count": null
  },
  {
   "metadata": {},
   "cell_type": "code",
   "source": "dic_4 = getvalue2(mymodel_4layer,ensemble = False)",
   "id": "1089985a751c36dc",
   "outputs": [],
   "execution_count": null
  },
  {
   "metadata": {},
   "cell_type": "code",
   "source": "dic_4_10000 = getvalue2(mymodel_4layer,ensemble = False)\n",
   "id": "3ae1b9e5e1f82ea3",
   "outputs": [],
   "execution_count": null
  },
  {
   "metadata": {},
   "cell_type": "code",
   "source": [
    "mean_field_guide = AutoDiagonalNormal(mymodel_3layer)\n",
    "optimizer = pyro.optim.Adam({\"lr\": 0.001})\n",
    "\n",
    "svi = SVI(mymodel_3layer, mean_field_guide, optimizer, loss=Trace_ELBO())\n",
    "pyro.clear_param_store()\n",
    "\n",
    "num_epochs = 15000\n",
    "progress_bar = trange(num_epochs)\n",
    "losslist = []\n",
    "l = 500\n",
    "interval = num_epochs//l\n",
    "for epoch in progress_bar:\n",
    "    loss = svi.step(x_train, y_train)\n",
    "    if epoch % interval == 0:\n",
    "        losslist.append(loss/ x_train.shape[0])\n",
    "    progress_bar.set_postfix(loss=f\"{loss / x_train.shape[0]:.3f}\")"
   ],
   "id": "4c275cd307b6024",
   "outputs": [],
   "execution_count": null
  },
  {
   "metadata": {},
   "cell_type": "code",
   "source": "plt.plot(losslist)   ",
   "id": "7769e29d288719e2",
   "outputs": [],
   "execution_count": null
  },
  {
   "metadata": {},
   "cell_type": "code",
   "source": [
    "param_store = pyro.get_param_store()\n",
    "for name, value in param_store.items():\n",
    "    print(f\"{name}: {value}\")"
   ],
   "id": "f22609908b1ac2ad",
   "outputs": [],
   "execution_count": null
  },
  {
   "metadata": {},
   "cell_type": "code",
   "source": "",
   "id": "77b9affe30c43497",
   "outputs": [],
   "execution_count": null
  },
  {
   "metadata": {},
   "cell_type": "code",
   "source": "dic_3 = getvalue2(mymodel_4layer,ensemble = False)",
   "id": "bc8c5e9a1d8ea814",
   "outputs": [],
   "execution_count": null
  },
  {
   "metadata": {},
   "cell_type": "code",
   "source": [
    "import numpy as np\n",
    "\n",
    "def frobenius_distance(A, B):\n",
    "    \"\"\"\n",
    "    计算两个矩阵之间的 Frobenius 范数距离。\n",
    "\n",
    "    参数:\n",
    "    A -- 第一个矩阵 (numpy 数组)\n",
    "    B -- 第二个矩阵 (numpy 数组)\n",
    "\n",
    "    返回值:\n",
    "    Frobenius 范数距离 (浮点数)\n",
    "    \"\"\"\n",
    "    # 检查两个矩阵的形状是否相同\n",
    "    if A.shape != B.shape:\n",
    "        return np.inf\n",
    "        # raise ValueError(\"两个矩阵的形状必须相同\")\n",
    "    \n",
    "    # 计算 Frobenius 范数距离\n",
    "    distance = np.linalg.norm(A - B, 'fro')\n",
    "    \n",
    "    return distance\n"
   ],
   "id": "f6f064c544fd0cc4",
   "outputs": [],
   "execution_count": null
  },
  {
   "metadata": {},
   "cell_type": "code",
   "source": [
    "A = dic_4_10000[\"0Weight\"].cpu()\n",
    "B = dic_3[\"0Weight\"].cpu()\n",
    "N = np.sqrt( np.linalg.norm(A) * np.linalg.norm(B))\n",
    "d = frobenius_distance(A,B)/N\n",
    "print(d)"
   ],
   "id": "11a1e9361e3fbfe5",
   "outputs": [],
   "execution_count": null
  },
  {
   "metadata": {},
   "cell_type": "code",
   "source": [
    "def cosine_similarity(A, B):\n",
    "    a_flat = A.flatten()\n",
    "    b_flat = B.flatten()\n",
    "    if len(a_flat) != len(b_flat):\n",
    "        return np.inf\n",
    "    dot_product = np.dot(a_flat, b_flat)\n",
    "    norm_a = np.linalg.norm(a_flat)\n",
    "    norm_b = np.linalg.norm(b_flat)\n",
    "    return dot_product / (norm_a * norm_b)"
   ],
   "id": "e434d60903c4ba7",
   "outputs": [],
   "execution_count": null
  },
  {
   "metadata": {},
   "cell_type": "code",
   "source": [
    "#list_d = [\"0Omega\",\"0Weight\",\"1Omega\",\"1Weight\"]\n",
    "list_d = [\"0Weight\",\"1Weight\"]\n",
    "f_matrix = np.zeros((4, 4))\n",
    "c_matrix = np.zeros((4, 4))\n",
    "for i in range(2):\n",
    "    key = list_d[i]\n",
    "    A = dic_4[key].cpu()\n",
    "    for j in range(2):\n",
    "        key = list_d[j]\n",
    "        B = dic_4_10000[key].cpu()\n",
    "        N = np.sqrt( np.linalg.norm(A) * np.linalg.norm(B))\n",
    "        d = frobenius_distance(A,B)/N\n",
    "        c_matrix[i,j] = cosine_similarity(A,B)\n",
    "        f_matrix[i,j]= d\n",
    "    \n",
    "print(c_matrix)"
   ],
   "id": "390dd16cb83be826",
   "outputs": [],
   "execution_count": null
  },
  {
   "metadata": {},
   "cell_type": "code",
   "source": "print(f_matrix)",
   "id": "61e47502fabe37d8",
   "outputs": [],
   "execution_count": null
  },
  {
   "metadata": {},
   "cell_type": "code",
   "source": [
    "def transfer_weights(mymodel, new_model):\n",
    "    trained_state_dict = mymodel.state_dict()\n",
    "    new_state_dict = new_model.state_dict()\n",
    "\n",
    "    for name, param in trained_state_dict.items():\n",
    "        if name in new_state_dict:\n",
    "            try:\n",
    "                new_state_dict[name].copy_(param)\n",
    "                print(f\"Copied {name} from trained model to new model.\")\n",
    "            except Exception as e:\n",
    "                print(f\"Could not copy parameter {name}: {e}\")\n",
    "        else:\n",
    "            print(f\"Parameter {name} not found in new model.\")\n",
    "\n",
    "    new_model.load_state_dict(new_state_dict)\n",
    "\n",
    "transfer_weights(trained_model, new_model)"
   ],
   "id": "688bcb71ac7137d8",
   "outputs": [],
   "execution_count": null
  },
  {
   "metadata": {},
   "cell_type": "code",
   "source": [
    "trained_state_dict = mymodel.state_dict()\n",
    "print(trained_state_dict)\n",
    "for name, param in trained_state_dict.items():\n",
    "    print(f\"{name}: {param}\")\n",
    "    print(\"1\")"
   ],
   "id": "c1e116e9185f557f",
   "outputs": [],
   "execution_count": null
  },
  {
   "cell_type": "code",
   "id": "3f7383f0-d018-4491-a554-6bdee8840104",
   "metadata": {
    "tags": []
   },
   "source": [
    "for name, value in pyro.get_param_store().items():\n",
    "    print(name, pyro.param(name).shape)"
   ],
   "outputs": [],
   "execution_count": null
  },
  {
   "metadata": {},
   "cell_type": "markdown",
   "source": "                  1 -> 50; 100 -> 6",
   "id": "ecb6e41e0a42d1"
  },
  {
   "metadata": {},
   "cell_type": "markdown",
   "source": [
    "Omega 1*50  1*50\n",
    "W     6*100 6*100\n",
    "bias  6     6\n",
    "sigma 1     1"
   ],
   "id": "2309648bcec46c90"
  }
 ],
 "metadata": {
  "kernelspec": {
   "display_name": "Python 3 (ipykernel)",
   "language": "python",
   "name": "python3"
  },
  "language_info": {
   "codemirror_mode": {
    "name": "ipython",
    "version": 3
   },
   "file_extension": ".py",
   "mimetype": "text/x-python",
   "name": "python",
   "nbconvert_exporter": "python",
   "pygments_lexer": "ipython3",
   "version": "3.11.4"
  }
 },
 "nbformat": 4,
 "nbformat_minor": 5
}
